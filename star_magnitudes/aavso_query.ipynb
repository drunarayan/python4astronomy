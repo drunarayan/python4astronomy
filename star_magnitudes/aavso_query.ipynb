{
 "cells": [
  {
   "cell_type": "code",
   "execution_count": 1,
   "id": "b52f071a-95db-4699-ac83-c5fc6b591d6f",
   "metadata": {},
   "outputs": [
    {
     "name": "stdout",
     "output_type": "stream",
     "text": [
      "{'id': 3381354, 'location': {'telescope_class': '0m4'}, 'configurations': [{'id': 10515870, 'constraints': {'max_airmass': 1.6, 'min_lunar_distance': 30.0, 'max_lunar_phase': 1.0, 'max_seeing': None, 'min_transparency': None, 'extra_params': {}}, 'instrument_configs': [{'exposure_time': 2.0, 'optical_elements': {'filter': 'V'}, 'mode': 'default', 'exposure_count': 1, 'rotator_mode': '', 'extra_params': {'bin_x': 1, 'bin_y': 1}}], 'acquisition_config': {'mode': 'OFF', 'exposure_time': None, 'extra_params': {}}, 'guiding_config': {'optional': True, 'mode': 'ON', 'optical_elements': {}, 'exposure_time': None, 'extra_params': {}}, 'target': {'type': 'ICRS', 'name': 'TU Cas', 'ra': 6.58103671348, 'dec': 51.28035894558, 'proper_motion_ra': 0.0, 'proper_motion_dec': 0.0, 'parallax': 0.0, 'epoch': 2000.0, 'extra_params': {}}, 'instrument_type': '0M4-SCICAM-SBIG', 'type': 'EXPOSE', 'extra_params': {}, 'priority': 1}], 'windows': [{'start': '2023-11-17T09:51:55Z', 'end': '2023-11-17T10:21:55Z'}], 'duration': 124, 'observation_note': 'Kiosk', 'optimization_type': 'TIME', 'state': 'COMPLETED', 'modified': '2023-11-17T12:24:15.530350Z', 'created': '2023-11-12T19:12:10.325375Z', 'acceptability_threshold': 90.0, 'configuration_repeats': 1, 'extra_params': {}}\n"
     ]
    }
   ],
   "source": [
    "import pandas as pd\n",
    "import json\n",
    "import requests as req\n",
    "\n",
    "response = req.get('https://observe.lco.global/api/requests/3381354/?format=json').text\n",
    "response_info = json.loads(response)\n",
    "print(response_info)\n",
    "\n",
    "\n",
    "\n"
   ]
  },
  {
   "cell_type": "code",
   "execution_count": 2,
   "id": "b53ddecb-b2e0-47ae-a268-42f3aaf739c7",
   "metadata": {},
   "outputs": [
    {
     "name": "stdout",
     "output_type": "stream",
     "text": [
      "{'type': 'ICRS', 'name': 'TU Cas', 'ra': 6.58103671348, 'dec': 51.28035894558, 'proper_motion_ra': 0.0, 'proper_motion_dec': 0.0, 'parallax': 0.0, 'epoch': 2000.0, 'extra_params': {}}\n"
     ]
    }
   ],
   "source": [
    "print(response_info['configurations'][0]['target'])"
   ]
  },
  {
   "cell_type": "code",
   "execution_count": 3,
   "id": "1822a4fd-4332-4b71-916c-8b25463fc75e",
   "metadata": {},
   "outputs": [
    {
     "name": "stdout",
     "output_type": "stream",
     "text": [
      "TU Cas\n"
     ]
    }
   ],
   "source": [
    "print(response_info['configurations'][0]['target']['name'])"
   ]
  },
  {
   "cell_type": "code",
   "execution_count": 4,
   "id": "d5540add-9fb5-4fb5-8b22-e8858adb0bab",
   "metadata": {},
   "outputs": [
    {
     "data": {
      "text/html": [
       "<div>\n",
       "<style scoped>\n",
       "    .dataframe tbody tr th:only-of-type {\n",
       "        vertical-align: middle;\n",
       "    }\n",
       "\n",
       "    .dataframe tbody tr th {\n",
       "        vertical-align: top;\n",
       "    }\n",
       "\n",
       "    .dataframe thead th {\n",
       "        text-align: right;\n",
       "    }\n",
       "</style>\n",
       "<table border=\"1\" class=\"dataframe\">\n",
       "  <thead>\n",
       "    <tr style=\"text-align: right;\">\n",
       "      <th></th>\n",
       "      <th>type</th>\n",
       "      <th>name</th>\n",
       "      <th>ra</th>\n",
       "      <th>dec</th>\n",
       "      <th>proper_motion_ra</th>\n",
       "      <th>proper_motion_dec</th>\n",
       "      <th>parallax</th>\n",
       "      <th>epoch</th>\n",
       "    </tr>\n",
       "  </thead>\n",
       "  <tbody>\n",
       "    <tr>\n",
       "      <th>0</th>\n",
       "      <td>ICRS</td>\n",
       "      <td>TU Cas</td>\n",
       "      <td>6.581037</td>\n",
       "      <td>51.280359</td>\n",
       "      <td>0.0</td>\n",
       "      <td>0.0</td>\n",
       "      <td>0.0</td>\n",
       "      <td>2000.0</td>\n",
       "    </tr>\n",
       "  </tbody>\n",
       "</table>\n",
       "</div>"
      ],
      "text/plain": [
       "   type    name        ra        dec  proper_motion_ra  proper_motion_dec  \\\n",
       "0  ICRS  TU Cas  6.581037  51.280359               0.0                0.0   \n",
       "\n",
       "   parallax   epoch  \n",
       "0       0.0  2000.0  "
      ]
     },
     "execution_count": 4,
     "metadata": {},
     "output_type": "execute_result"
    }
   ],
   "source": [
    "reff = pd.json_normalize(response_info['configurations'][0]['target'])\n",
    "df = pd.DataFrame(data=reff)\n",
    "df"
   ]
  },
  {
   "cell_type": "code",
   "execution_count": 5,
   "id": "31b1f525-8e1e-4159-aab5-a03641bf7dc7",
   "metadata": {},
   "outputs": [],
   "source": [
    "ra=response_info['configurations'][0]['target']['ra']\n",
    "dec=response_info['configurations'][0]['target']['dec']"
   ]
  },
  {
   "cell_type": "code",
   "execution_count": 7,
   "id": "4d5eaafd-5d4a-47a9-8a73-1f98f4892614",
   "metadata": {},
   "outputs": [
    {
     "data": {
      "text/html": [
       "<div style=\"text-align:center;\">\n",
       "<iframe src=\"https://app.aavso.org/vsp/chart/?ra=6.58103671348&dec=51.28035894558&orientation=visual&type=chart&fov=20.0&maglimit=15.0&resolution=150&north=down&east=right&lines=True\" width=\"900\" height=\"1024\"></iframe>\n",
       "</div>\n"
      ],
      "text/plain": [
       "<IPython.core.display.HTML object>"
      ]
     },
     "metadata": {},
     "output_type": "display_data"
    }
   ],
   "source": [
    "%%html\n",
    "<div style=\"text-align:center;\">\n",
    "<iframe src=\"https://app.aavso.org/vsp/chart/?ra=6.58103671348&dec=51.28035894558&orientation=visual&type=chart&fov=20.0&maglimit=15.0&resolution=150&north=down&east=right&lines=True\" width=\"900\" height=\"1024\"></iframe>\n",
    "</div>"
   ]
  },
  {
   "cell_type": "code",
   "execution_count": 8,
   "id": "5a8b7e5a-ebcd-4413-b9ee-b42ef3ea15a3",
   "metadata": {},
   "outputs": [
    {
     "data": {
      "text/html": [
       "\n",
       "<html>\n",
       "    <div style=\"text-align:center;\">\n",
       "    <iframe src=\"https://app.aavso.org/vsp/chart/?ra=6.58103671348&dec=51.28035894558&orientation=visual&type=chart&fov=20.0&maglimit=15.0&resolution=150&north=down&east=right&lines=True\" width=\"900\" height=\"1024\"></iframe>\n",
       "    </div>\n",
       "</html>"
      ],
      "text/plain": [
       "<IPython.core.display.HTML object>"
      ]
     },
     "execution_count": 8,
     "metadata": {},
     "output_type": "execute_result"
    }
   ],
   "source": [
    "html_code =f\"\"\"\n",
    "<html>\n",
    "    <div style=\"text-align:center;\">\n",
    "    <iframe src=\"https://app.aavso.org/vsp/chart/?ra={ra}&dec={dec}&orientation=visual&type=chart&fov=20.0&maglimit=15.0&resolution=150&north=down&east=right&lines=True\" width=\"900\" height=\"1024\"></iframe>\n",
    "    </div>\n",
    "</html>\"\"\"\n",
    "\n",
    "from IPython.display import HTML\n",
    "HTML(html_code)"
   ]
  },
  {
   "cell_type": "code",
   "execution_count": null,
   "id": "ccc394d3-b154-4af4-ab1f-6c0c0d6397ca",
   "metadata": {},
   "outputs": [],
   "source": []
  }
 ],
 "metadata": {
  "kernelspec": {
   "display_name": "Python 3 (ipykernel)",
   "language": "python",
   "name": "python3"
  },
  "language_info": {
   "codemirror_mode": {
    "name": "ipython",
    "version": 3
   },
   "file_extension": ".py",
   "mimetype": "text/x-python",
   "name": "python",
   "nbconvert_exporter": "python",
   "pygments_lexer": "ipython3",
   "version": "3.9.13"
  }
 },
 "nbformat": 4,
 "nbformat_minor": 5
}
