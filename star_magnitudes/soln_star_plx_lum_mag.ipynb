{
 "cells": [
  {
   "cell_type": "markdown",
   "id": "19748f7d-01da-4de5-a452-da435fa3a112",
   "metadata": {},
   "source": [
    "### A study of Star Luminosity Magnitude and Parallax"
   ]
  },
  {
   "cell_type": "markdown",
   "id": "ace1b9cc-962f-4dc3-b0fa-605c42533d69",
   "metadata": {},
   "source": [
    "### 1. [Apparent Brightness or Luminosity of a Star](https://openstax.org/books/astronomy/pages/5-1-the-behavior-of-light?target=%7B%22id%22%3A%22004f2667-0620-4985-85a3-a88b485c17fc%22%2C%22type%22%3A%22highlight%22%7D#fs-id1163975639889) - Inverse Square Law"
   ]
  },
  {
   "cell_type": "markdown",
   "id": "a2c2e373-9118-4023-b255-7520775010c6",
   "metadata": {},
   "source": [
    "![app_bright](app_brightness.png)"
   ]
  },
  {
   "cell_type": "markdown",
   "id": "b3d1af21-57c9-4f25-8afa-20857c2af652",
   "metadata": {},
   "source": [
    "#### We know that the Surface area of a sphere $ = 4 \\pi r^2$. Therefore brightness or the energy radiated reduces in inverse proportion to the square of the distance from the light source\n",
    "\n",
    "$$\n",
    "Apparent\\ brightness\\ or\\ energy\\ radiated\\ \\propto \\frac {1}{dist^2} \n",
    "$$\n",
    "\n",
    "#### For example, we know that the star Alpha Centauri approximately emits the same amount of energy per second as our Sun does."
   ]
  },
  {
   "cell_type": "markdown",
   "id": "d5b9fd70-53ca-4373-910c-6f8499406322",
   "metadata": {},
   "source": [
    "#### Problem: Calculate the Brightness of [Alpha Centauri](https://en.wikipedia.org/wiki/Alpha_Centauri) in our night sky when compared to the Sun's brigtness during the day time."
   ]
  },
  {
   "cell_type": "code",
   "execution_count": 1,
   "id": "1dab0790-cd8f-4c11-a943-cab4e1d87e3b",
   "metadata": {},
   "outputs": [
    {
     "name": "stdout",
     "output_type": "stream",
     "text": [
      "Alpha Centauri system is 2.76e+05 AU away\n",
      "Alpha Centauri is only 1.31e-11 times the brightness of our Sun at daytime!\n"
     ]
    }
   ],
   "source": [
    "# PLUG IN VALUES WHERE YOU SEE A QUESTION MARK !!\n",
    "\n",
    "# Calculate the Brightness of Alpha Centauri in our night sky \n",
    "# when compared to the Sun's brigtness during the day time.\n",
    "\n",
    "d_alpha_centauri = 4.367 # distance of alpha centauri in light years (look up in Google)\n",
    "au = 1.496e8 # Input here in KM\n",
    "au_m = au*1e3 # Calculate value of AU in meters\n",
    "light_speed = 3e8 # speed of light in meters per second (look up in Google)\n",
    "seconds_in_year = 365*24*60*60 # Calculate number of seconds in 1 year\n",
    "light_year_m =  light_speed*seconds_in_year # Calculate meters in 1 light year basd on variables above\n",
    "au_in_light_year = light_year_m/au_m # Calculate au  in 1 light year basd on variables above\n",
    "dac = d_alpha_centauri*au_in_light_year # Calculatedistance of Alpha Centauri in AU\n",
    "print(f\"Alpha Centauri system is {dac:.2e} AU away\")\n",
    "brightness_alpha_centauri = 1/(dac**2)\n",
    "print(f\"Alpha Centauri is only {brightness_alpha_centauri:.2e} times the brightness of our Sun at daytime!\")"
   ]
  },
  {
   "cell_type": "markdown",
   "id": "6f933a4e-65a5-45a6-8d85-15dbed4e44e2",
   "metadata": {},
   "source": [
    "### 2. [A unit for Cosmological Distance - Parsec](https://en.wikipedia.org/wiki/Parallax)"
   ]
  },
  {
   "cell_type": "markdown",
   "id": "fdc930d2-2219-496a-b883-d88e1365af84",
   "metadata": {},
   "source": [
    "**Parallax & Parsec**- The effect which causes an apparent shift in the position of an object with request to a background when observed from two different points (separated by a distance called basis) It is calculated as the semi-angle of inclination of these two different line of sights from the observation points to the object. \n",
    "\n",
    "**When the parallax angle 'p' is 1 arc-second, a convenient distance unit 'parsec' was created to denote the distance of the Star from Earth. This is measured to be 3.26 Light Years.**\n",
    "\n",
    "#### In these units: Distance in parsec $=\\frac{1}{p}$\n",
    "\n",
    "\n",
    "<img src=\"https://upload.wikimedia.org/wikipedia/commons/thumb/e/e3/Stellarparallax2.svg/340px-Stellarparallax2.svg.png\" alt=\"Parallax\" style=\"width: 50%; float:center;\"/>"
   ]
  },
  {
   "cell_type": "markdown",
   "id": "d2e4d6a8-ea60-4e55-b257-faf74401279e",
   "metadata": {},
   "source": [
    "## Can you derive from the above that one-parsec is actually 3.26 Light Years??"
   ]
  },
  {
   "cell_type": "code",
   "execution_count": 2,
   "id": "d7a99c1c-538f-42d3-8951-a05391fa6697",
   "metadata": {},
   "outputs": [
    {
     "name": "stdout",
     "output_type": "stream",
     "text": [
      "dist of star showing 1 parlallax second displacement = 206265 au\n",
      "dist of star showing 1 parlallax second displacement = 3.26 light years\n"
     ]
    }
   ],
   "source": [
    "import math\n",
    "opp = 1 # au\n",
    "# adj = dist of star (d)\n",
    "# tan(p) = 1/d\n",
    "# d = au_in_a_pc = 1/tan(p) = definition 1 parsec \n",
    "\n",
    "au_in_a_pc = 1/math.tan(1/3600*math.pi/180)\n",
    "print(f'dist of star showing 1 parlallax second displacement = {au_in_a_pc:.0f} au')\n",
    "ly_in_a_pc = au_in_a_pc/au_in_light_year\n",
    "print(f'dist of star showing 1 parlallax second displacement = {ly_in_a_pc:.2f} light years')"
   ]
  },
  {
   "cell_type": "markdown",
   "id": "3e99c476-329e-4646-b094-3a52965b338a",
   "metadata": {},
   "source": [
    "### 3. [Apparent Magnitude and Logarithms](https://docs.google.com/presentation/d/1X1VZjqaZ-UA-qohXGu_p33TN1KleO3WIiyhKhkNKmqQ/edit#slide=id.g11e0b10483e_0_9)"
   ]
  },
  {
   "cell_type": "markdown",
   "id": "61e65aea-af6c-44f6-b280-2dc2e1d76acb",
   "metadata": {},
   "source": [
    "What number multipled 5 times over gives you 100 ?\n",
    "$5\\sqrt{100} = 2.51$"
   ]
  },
  {
   "cell_type": "markdown",
   "id": "cdc5831a-cc76-449a-a9a5-36cfd5a5bf6d",
   "metadata": {},
   "source": [
    "![mags](hipparchus_mag.png)"
   ]
  },
  {
   "cell_type": "markdown",
   "id": "d0ae9414-6890-45da-ab3d-06afb866743a",
   "metadata": {},
   "source": [
    "What number multipled 5 times over gives you 100? Ans: \n",
    "$5\\sqrt{100} = 2.51 = 100^{\\frac{1}{5}}$\n",
    "\n",
    "Another way to consider this is to think in terms of Logarithms. The meaning of the expression $$y=log_bx$$ is to say that 'y' is the number of times you mutiply 'b' by itself to get 'x'.  So you could say that $$5 =log_{2.51}{100}$$"
   ]
  },
  {
   "cell_type": "code",
   "execution_count": 3,
   "id": "d86e05c9-ea59-47b8-8968-058464348151",
   "metadata": {},
   "outputs": [
    {
     "name": "stdout",
     "output_type": "stream",
     "text": [
      "Log base 2.51 of 100 is: 5.00\n"
     ]
    }
   ],
   "source": [
    "import math\n",
    "print(f'Log base 2.51 of 100 is: {math.log(100,2.51):.2f}')"
   ]
  },
  {
   "cell_type": "markdown",
   "id": "aac24aab-e1e0-44a4-87c8-3e08646c86f2",
   "metadata": {},
   "source": [
    "![mag_formula](mag_formula.png)"
   ]
  },
  {
   "cell_type": "markdown",
   "id": "cea168ad-0120-4184-b5b3-abd62a7e8c7a",
   "metadata": {},
   "source": [
    "![app_mag](app_mag.png)"
   ]
  },
  {
   "cell_type": "markdown",
   "id": "c838a364-5988-4384-b5eb-ade4ec682664",
   "metadata": {},
   "source": [
    "$\\boxed{(m1 - m2) = 2.5 \\times log_{10}(\\frac{b2}{b1})}$\n",
    "\n",
    "Let's look at a numerical example:\n",
    "\n",
    "It is known that the Jupiter shines at Magnitude -2.5 and Polaris shines at Magnitude 2.0.  \n",
    "\n",
    "\n",
    "Hence the Magnitude difference is  = 2.0 - (-2.5) = 4.5.\n",
    "\n",
    "Applying the formula above:\n",
    "$(2.0 - -2.5) = 4.5 = 2.5 \\times log_{10}(\\frac{b2}{b1})$\n",
    "\n",
    "Exponentiating both LHS and RHS by 10 we get\n",
    "$10^{4.5} = 10^{2.5log_{10}(\\frac{b2}{b1})}$\n",
    "\n",
    "$10^{4.5} = ({\\frac{b2}{b1}})^{2.5}$\n",
    "\n",
    "$\\frac{b2}{b1} = 10^{\\frac{4.5}{2.5}} = 63$"
   ]
  },
  {
   "cell_type": "markdown",
   "id": "451d90f2-e4b2-4896-a5e3-b154a26775fd",
   "metadata": {},
   "source": [
    "#### Jupiter shines 63 times brighter than Polaris!"
   ]
  },
  {
   "cell_type": "markdown",
   "id": "30fab740-0ddd-4b5c-8be6-83cb9d5e0bac",
   "metadata": {},
   "source": [
    "### 4. Absolute Magnitude and Parsec"
   ]
  },
  {
   "cell_type": "markdown",
   "id": "3b92c9f8-98f5-42ed-82fc-e58eb928098c",
   "metadata": {},
   "source": [
    "#### The Absolute Magnitude of a star is defined as the Apparent Magnitude of a star placed 10 parsecs (32.6 Light Years) away.  Using this definition, we can derive a formula for the Absolute Magnitude of a Star as a function of its Apparent Magnitude. \n",
    "\n",
    "#### Note: $$(m_{app} - m_{abs}) = 2.5 \\times log_{10}(\\frac{b_{abs}}{b_{app}})$$"
   ]
  },
  {
   "cell_type": "markdown",
   "id": "bb2b4fd6-ba90-430d-9a36-e1c354a11314",
   "metadata": {},
   "source": [
    "#### By this definition and using Inverse Square Law we get : $$\\frac{b_{abs}}{b_{app}}=({\\frac{d_{app}}{d_{abs}}})^2$$"
   ]
  },
  {
   "cell_type": "markdown",
   "id": "e9ac3321-4334-4726-934e-eba3fae9f380",
   "metadata": {},
   "source": [
    "### Using this in the previous equation we get : \n",
    "#### $$(m_{app} - m_{abs}) = 2.5 \\times log_{10}({\\frac{d_{app}}{d_{abs}}})^2$$\n",
    "\n",
    "#### $$(m_{app} - m_{abs}) = 2.5 \\times 2 \\times log_{10}({\\frac{d_{app}}{d_{abs}}})$$\n",
    "\n",
    "#### But $$ log_{10}({\\frac{d_{app}}{d_{abs}}}) = log_{10}(d_{app}) - log_{10}(d_{abs}) = log_{10}(d_{app}) - 1$$\n",
    "\n",
    "#### $$ m_{abs} = m_{app} - 5 \\times (log_{10}(d_{app}) - 1) $$\n",
    "\n",
    "#### $$ \\boxed{m_{abs} = m_{app} - 5 \\times (log_{10}(d_{app}) + 5} $$\n",
    "#### or alternatively\n",
    "#### $$ \\boxed{m_{abs} = m_{app} - 5 \\times log_{10}(1/p) + 5} $$\n",
    "\n",
    "#### Where '$m_{abs}$' is Absolute Magnitude, '$d_{app}$' is distance and 'p' is Parallax angle"
   ]
  },
  {
   "cell_type": "markdown",
   "id": "45057bd2-d3ec-45e3-be9f-5bd158fa5e5b",
   "metadata": {},
   "source": [
    "### 5. Calculate the Absolute Magnitude of the Sun"
   ]
  },
  {
   "cell_type": "code",
   "execution_count": 5,
   "id": "eb510ee7-6bd3-4523-938b-4445862776be",
   "metadata": {},
   "outputs": [
    {
     "name": "stdout",
     "output_type": "stream",
     "text": [
      "The Sun shines at Apparent Magnitude of -27.0 and an Absolute (intrinsic) Magnitude of 4.6\n",
      "A star with the brightness of the Sun at a distance of 1 pc will be barely visible in our light polluted city night sky!\n"
     ]
    }
   ],
   "source": [
    "import math\n",
    "mapp = -27 # input apparent or visual magnitude of our Sun (look-up in google)\n",
    "sun_dist_pc = 1/au_in_a_pc # Calculate sun dist from earth in parsecs using using previously calculated 'au_in_a_pc'\n",
    "# Use the magnitude formula above to calculate the absolute magnitude of the Sun\n",
    "mabs = mapp - 5 * math.log10(sun_dist_pc) + 5\n",
    "print(f'The Sun shines at Apparent Magnitude of {mapp:.1f} and an Absolute (intrinsic) Magnitude of {mabs:.1f}')\n",
    "print('A star with the brightness of the Sun at a distance of 1 pc will be barely visible in our light polluted city night sky!')"
   ]
  },
  {
   "cell_type": "code",
   "execution_count": null,
   "id": "de110796-94c2-4fea-a260-752c426dee54",
   "metadata": {},
   "outputs": [],
   "source": []
  }
 ],
 "metadata": {
  "kernelspec": {
   "display_name": "Python 3 (ipykernel)",
   "language": "python",
   "name": "python3"
  },
  "language_info": {
   "codemirror_mode": {
    "name": "ipython",
    "version": 3
   },
   "file_extension": ".py",
   "mimetype": "text/x-python",
   "name": "python",
   "nbconvert_exporter": "python",
   "pygments_lexer": "ipython3",
   "version": "3.9.13"
  }
 },
 "nbformat": 4,
 "nbformat_minor": 5
}
