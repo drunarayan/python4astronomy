{
 "cells": [
  {
   "cell_type": "code",
   "execution_count": 1,
   "id": "9743d25f-1280-4f03-a0d5-7422e53e9f05",
   "metadata": {},
   "outputs": [],
   "source": [
    "# Enter LCO sub query number here\n",
    "lco_subrequest = '3382614'\n",
    "\n",
    "# Enter AAVSO chart parms here\n",
    "fov='20' #arc-min\n",
    "maglimit='15' #magnitude limit \n",
    "north='down' # north is down or up\n",
    "east='right' # east is right ot left"
   ]
  },
  {
   "cell_type": "code",
   "execution_count": 2,
   "id": "b52f071a-95db-4699-ac83-c5fc6b591d6f",
   "metadata": {},
   "outputs": [],
   "source": [
    "import pandas as pd\n",
    "import json\n",
    "import requests as req\n",
    "\n",
    "lco_query_string = f'https://observe.lco.global/api/requests/{lco_subrequest}/?format=json'\n",
    "\n",
    "response = req.get(lco_query_string).text\n",
    "response_info = json.loads(response)\n",
    "#print(response_info)"
   ]
  },
  {
   "cell_type": "code",
   "execution_count": 3,
   "id": "b53ddecb-b2e0-47ae-a268-42f3aaf739c7",
   "metadata": {},
   "outputs": [],
   "source": [
    "#print(response_info['configurations'][0]['target'])"
   ]
  },
  {
   "cell_type": "code",
   "execution_count": 4,
   "id": "1822a4fd-4332-4b71-916c-8b25463fc75e",
   "metadata": {},
   "outputs": [
    {
     "name": "stdout",
     "output_type": "stream",
     "text": [
      "Lam tau\n"
     ]
    }
   ],
   "source": [
    "print(response_info['configurations'][0]['target']['name'])"
   ]
  },
  {
   "cell_type": "code",
   "execution_count": 5,
   "id": "d5540add-9fb5-4fb5-8b22-e8858adb0bab",
   "metadata": {},
   "outputs": [],
   "source": [
    "reff = pd.json_normalize(response_info['configurations'][0]['target'])\n",
    "df = pd.DataFrame(data=reff)\n",
    "#df"
   ]
  },
  {
   "cell_type": "code",
   "execution_count": 6,
   "id": "31b1f525-8e1e-4159-aab5-a03641bf7dc7",
   "metadata": {},
   "outputs": [],
   "source": [
    "ra=response_info['configurations'][0]['target']['ra']\n",
    "dec=response_info['configurations'][0]['target']['dec']\n",
    "tgt=response_info['configurations'][0]['target']['name']"
   ]
  },
  {
   "cell_type": "code",
   "execution_count": 7,
   "id": "5a8b7e5a-ebcd-4413-b9ee-b42ef3ea15a3",
   "metadata": {},
   "outputs": [
    {
     "data": {
      "text/html": [
       "\n",
       "<html>\n",
       "    <div style=\"text-align:center;\">\n",
       "    <iframe src=\"https://app.aavso.org/vsp/chart/?ra=60.1700654896&dec=12.4903405381&title=Lam tau&orientation=visual&type=chart&fov=20&maglimit=15&resolution=150&north=down&east=right&lines=True\" width=\"900\" height=\"1024\"></iframe>\n",
       "    </div>\n",
       "</html>"
      ],
      "text/plain": [
       "<IPython.core.display.HTML object>"
      ]
     },
     "execution_count": 7,
     "metadata": {},
     "output_type": "execute_result"
    }
   ],
   "source": [
    "html_code =f\"\"\"\n",
    "<html>\n",
    "    <div style=\"text-align:center;\">\n",
    "    <iframe src=\"https://app.aavso.org/vsp/chart/?ra={ra}&dec={dec}&title={tgt}&orientation=visual&type=chart&fov={fov}&maglimit={maglimit}&resolution=150&north={north}&east={east}&lines=True\" width=\"900\" height=\"1024\"></iframe>\n",
    "    </div>\n",
    "</html>\"\"\"\n",
    "\n",
    "from IPython.display import HTML\n",
    "HTML(html_code)"
   ]
  },
  {
   "cell_type": "code",
   "execution_count": null,
   "id": "ccc394d3-b154-4af4-ab1f-6c0c0d6397ca",
   "metadata": {},
   "outputs": [],
   "source": []
  },
  {
   "cell_type": "code",
   "execution_count": null,
   "id": "2b3ffc5b-d98b-40a1-a7bd-1d24ba448089",
   "metadata": {},
   "outputs": [],
   "source": []
  }
 ],
 "metadata": {
  "kernelspec": {
   "display_name": "Python 3 (ipykernel)",
   "language": "python",
   "name": "python3"
  },
  "language_info": {
   "codemirror_mode": {
    "name": "ipython",
    "version": 3
   },
   "file_extension": ".py",
   "mimetype": "text/x-python",
   "name": "python",
   "nbconvert_exporter": "python",
   "pygments_lexer": "ipython3",
   "version": "3.9.13"
  }
 },
 "nbformat": 4,
 "nbformat_minor": 5
}
