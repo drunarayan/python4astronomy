{
 "cells": [
  {
   "cell_type": "markdown",
   "metadata": {
    "id": "3JDakeShaAQH"
   },
   "source": [
    "# Singing Black Hole Activity\n",
    "This coding activity let's us learn how to use Jupyter Notebooks as explore **the singing black hole!**. In 2003 astrophysicists working with NASA’s orbiting Chandra X-ray Observatory detected a pattern of ripples in the X-ray glow of a giant cluster of galaxies in the constellation Perseus.  \n",
    "\n",
    "![perseus](perseus_constellation.png)  \n",
    "\n",
    "They are pressure waves — that is to say, sound waves — 30,000 light-years in diameter and radiating outward through the thin, ultrahot gas that suffuses galaxy clusters. \n",
    "\n",
    "![perseusA](perseus_a.png) \n",
    "\n",
    "They were caused by periodic explosions from a supermassive black hole at the center of the cluster, which is 250 million light-years away and contains thousands of galaxies. The sound waves were acoustically equivalent to a B-flat 57 octaves below middle C, a tone that the black hole has apparently been holding for the last two billion years.  Astronomers \"sonified\" the sound from this black hole by increasing its frequency by a factor of 200 quadrillion to 20 Hz, the low limit of human hearing!  \n"
   ]
  },
  {
   "cell_type": "code",
   "execution_count": 1,
   "metadata": {},
   "outputs": [
    {
     "data": {
      "image/jpeg": "[encoded data removed]",
      "text/html": [
       "\n",
       "        <iframe\n",
       "            width=\"800\"\n",
       "            height=\"300\"\n",
       "            src=\"https://www.youtube.com/embed/ioR5np1fmEc\"\n",
       "            frameborder=\"0\"\n",
       "            allowfullscreen\n",
       "            \n",
       "        ></iframe>\n",
       "        "
      ],
      "text/plain": [
       "<IPython.lib.display.YouTubeVideo at 0x7f8a783c5c40>"
      ]
     },
     "execution_count": 1,
     "metadata": {},
     "output_type": "execute_result"
    }
   ],
   "source": [
    "from IPython.display import YouTubeVideo\n",
    "# A black hole that sings!\n",
    "YouTubeVideo('ioR5np1fmEc', width=800, height=300)"
   ]
  },
  {
   "cell_type": "markdown",
   "metadata": {},
   "source": [
    "Use the information provided in this notebook and discussion in the class to multiple create code cells below to calculate the following:\n",
    "\n",
    "1. Find the frequency of the sound emitted by the black hole _hint: it wil be multiple orders of magnitude less than 1!_\n",
    "1. Find the period of the sound emitted by the black hole _hint: it wil be in millions of years!_"
   ]
  },
  {
   "cell_type": "markdown",
   "metadata": {},
   "source": [
    "Study the LaTex syntax to show the equations like you see below in Markdown Cells:"
   ]
  },
  {
   "cell_type": "markdown",
   "metadata": {
    "id": "z72DEuJGVg7F",
    "tags": []
   },
   "source": [
    "## Frequency and Period\n",
    "The frequency of a sound wave is the number of complete cycles in one second. Conversely, the period of a wave is the number of seconds it takes to complete a single cycle.\n",
    "1. We know that the ratio of frequencies is given to be 57 octaves and middle-c is 261.63 Hz. Let's round it up to 262 Hz. <a href=\"https://www.youtube.com/watch?v=uqO1TDa2AeU\" target=\"_blank\">Let's listen to 262 Hz here!</a>\n",
    "1. A single octave lower has the effect of cutting the frequency in one-half or $$=\\frac{middle-c-freq}{2}=262\\times\\frac{1}{2} Hz=131 Hz$$<a href=\"https://www.youtube.com/watch?v=XKmEbz-m-gU\" target=\"_blank\">Let's listen to 131 Hz here!</a>\n",
    "1. Two ocatves lower than middle-c will be one-half times one-half or $$=262\\times\\frac{1}{2}\\times\\frac{1}{2}=262\\times\\frac{1}{2^{2}}Hz=65 Hz$$<a href=\"https://www.youtube.com/watch?v=Pu1Nlu9BUrw\" target=\"_blank\">Let's listen to 65 Hz here!</a>\n",
    "1. Three ocatves lower than middle-c will be $$=262\\times\\frac{1}{2^{2}}Hz=32 Hz$$\n",
    "<a href=\"https://www.youtube.com/watch?v=T63Hg-oJgjE\" target=\"_blank\">Let's listen to 32 Hz here!</a>\n",
    "1. Fifty Seven ocatves lower than middle-c will be $$=262\\times\\frac{1}{2^{57}}Hz$$\n",
    "1. **Frequency of Sound wave emitted by Black Hole is$$=262\\times2^{-57}Hz$$**"
   ]
  },
  {
   "cell_type": "code",
   "execution_count": null,
   "metadata": {
    "tags": []
   },
   "outputs": [],
   "source": [
    "freq = 262 * 2**-57\n",
    "print(\"The frequency of sound wave emitted by Black Hole is %1.3e Hz\" % (freq))"
   ]
  },
  {
   "cell_type": "markdown",
   "metadata": {},
   "source": [
    "7. The period of a sound wave is simply the reciprocal of the frequency."
   ]
  },
  {
   "cell_type": "code",
   "execution_count": null,
   "metadata": {},
   "outputs": [],
   "source": [
    "period = 1/freq\n",
    "print(\"The period of sound wave emitted by Black Hole is %1.3e sec\" % (period))\n",
    "seconds_in_a_year = 365 * 24 * 60 * 60\n",
    "print(\"The period of sound wave emitted by Black Hole is %1.3e years!\" % (period/seconds_in_a_year))"
   ]
  },
  {
   "cell_type": "markdown",
   "metadata": {},
   "source": [
    "8. **Period of Sound wave emitted by Black Hole is = 17.44 Million Years!**"
   ]
  }
 ],
 "metadata": {
  "anaconda-cloud": {},
  "colab": {
   "collapsed_sections": [],
   "provenance": [],
   "toc_visible": true
  },
  "kernelspec": {
   "display_name": "Python 3 (ipykernel)",
   "language": "python",
   "name": "python3"
  },
  "language_info": {
   "codemirror_mode": {
    "name": "ipython",
    "version": 3
   },
   "file_extension": ".py",
   "mimetype": "text/x-python",
   "name": "python",
   "nbconvert_exporter": "python",
   "pygments_lexer": "ipython3",
   "version": "3.9.13"
  },
  "nteract": {
   "version": "0.28.0"
  }
 },
 "nbformat": 4,
 "nbformat_minor": 4
}
