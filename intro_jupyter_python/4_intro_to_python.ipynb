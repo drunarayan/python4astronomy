{
 "cells": [
  {
   "cell_type": "markdown",
   "metadata": {},
   "source": [
    "## Python for Astronomy Course\n",
    "### Introduction to Python\n",
    "You will need to have a version of Python installed (hopefully a new version like 3.9 and above). You will also need to have some of the standard Python libraries installed, either via 'pip install ...' or via a conda environment. Libraries that you will need for this class include: numpy, scipy, matplotlib. \n",
    "\n",
    "For folks who are used to matlab, note that Python starts with the zero index while Matlab starts with index 1. "
   ]
  },
  {
   "cell_type": "code",
   "execution_count": null,
   "metadata": {},
   "outputs": [],
   "source": [
    "# Basic Operations \n",
    "# -- similar to many basic programming languages (C, etc.)\n",
    "\n",
    "# use the python function 'print' to print the output\n",
    "print(2 + 2)\n",
    "print(2 * 2)\n",
    "print(2 / 2)\n",
    "print(2 - 2 * 7)  # Order of operations matters\n",
    "print((2 - 2) * 7)"
   ]
  },
  {
   "cell_type": "markdown",
   "metadata": {},
   "source": [
    "#### Notice a big difference with C or Matlab -- no semicolons needed at the end of statements! However, we will need colon symbols for indicating an indented block (see the loops below)"
   ]
  },
  {
   "cell_type": "code",
   "execution_count": null,
   "metadata": {},
   "outputs": [],
   "source": [
    "# Assign variables using '=' symbol\n",
    "a = 2 + 2\n",
    "print(a)"
   ]
  },
  {
   "cell_type": "code",
   "execution_count": null,
   "metadata": {},
   "outputs": [],
   "source": [
    "# Loops\n",
    "count = 0  # Initialize the variable \"count\"\n",
    "\n",
    "# Add all the numbers 1-10\n",
    "for ii in range(10):  # note that range(10) = [0, 2, ..., 9]\n",
    "    count = ii + count  # indicate a code block to loop over by indenting the code lines\n",
    "    \n",
    "print(count)"
   ]
  },
  {
   "cell_type": "code",
   "execution_count": null,
   "metadata": {},
   "outputs": [],
   "source": [
    "counter = count  # Assign count to counter\n",
    "\n",
    "# Subtract numbers until count is not greater than 10\n",
    "while (counter > 10):\n",
    "    counter = counter - 1\n",
    "print(counter)"
   ]
  },
  {
   "cell_type": "code",
   "execution_count": null,
   "metadata": {},
   "outputs": [],
   "source": [
    "# Create a vector (this is also called an 'array')\n",
    "A_Vector = [1, 2, 3, 4]\n",
    "\n",
    "# Access a particular element of the vector\n",
    "print(A_Vector[2])  # prints 3 because A_vector[0] is the start of the vector!\n",
    "print(A_Vector[-2]) # prints 3 because A_vector[-1] is the end of the vector, i.e. we are counting backwards from the end\n",
    "\n",
    "# best way to work with vectors and multi-dimensional 'arrays'\n",
    "# is to use the NumPy library, which is imported as follows:\n",
    "import numpy as np  # call the numpy library np for shorthand\n",
    "\n",
    "B_Vector = np.ones(4)  # same as B_Vector = [1, 1, 1, 1]\n",
    "A_Vector = np.array([1, 2, 3, 4])\n",
    "\n",
    "# np.zeros(N)  -- make a vector of N elements, all initialized to 0\n",
    "# np.random.randn(N)  -- make a vector of N elements, all randomly initialized between (0, 1)\n",
    "# np.eye(N)  -- make the identity matrix of size N x N\n",
    "\n",
    "# Create a numpy-style Matrix\n",
    "\n",
    "A_Matrix = np.array([[1, 2, 3, 4],\n",
    "                        [5, 6, 7, 8]])\n",
    "\n",
    "# Matrices are like stacks of vectors so [], zeros, ones, eye.. all work to\n",
    "# create matrices as well.\n",
    "\n",
    "# np.zeros((N, N, N)) -- Make a N x N x N tensor with elements all initialized to 0 "
   ]
  },
  {
   "cell_type": "code",
   "execution_count": null,
   "metadata": {},
   "outputs": [],
   "source": [
    "# Operations on Vectors/Matrices\n",
    "\n",
    "# matrices and vectors have to have one matching \n",
    "# dimension to be multiplied together\n",
    "mat_vec_product = A_Matrix @ A_Vector \n",
    "\n",
    "# The dimension of numpy objects can be accessed by .shape and\n",
    "# the .T operator takes the transpose (NxM to MxN)\n",
    "print(mat_vec_product, A_Matrix.shape, A_Matrix.T.shape)\n",
    "\n",
    "# square every element in the matrix A. Note that this is different than doing A @ A\n",
    "elementwise_square = A_Matrix ** 2 \n",
    "\n",
    "# can print multiple things by separating with a comma in the print function\n",
    "print('A = ', A_Matrix)\n",
    "print('A^2 = ', elementwise_square)"
   ]
  },
  {
   "cell_type": "code",
   "execution_count": null,
   "metadata": {},
   "outputs": [],
   "source": [
    "# Create a function in Python \n",
    "# Time, and fuctions of time f(t) are represented by vectors \n",
    "\n",
    "# numpy.linspace(-100, 100, 200) generates a 200-dimensional vector by splitting up the\n",
    "# interval (-100, 100) into a uniform grid. Default is to omit the last point (t=100)\n",
    "the_time = np.linspace(-100, 100, 200) \n",
    "\n",
    "F1 = (the_time ** 2) * np.sin(the_time)  # defining t^2 * sin(t)\n",
    "F2 = (the_time ** 2)  # defining t^2"
   ]
  },
  {
   "cell_type": "code",
   "execution_count": null,
   "metadata": {},
   "outputs": [],
   "source": [
    "# For plotting, we need to import another standard python library\n",
    "from matplotlib import pyplot as plt"
   ]
  },
  {
   "cell_type": "code",
   "execution_count": null,
   "metadata": {},
   "outputs": [],
   "source": [
    "plt.figure()\n",
    "plt.plot(the_time, F1, 'r-', linewidth=2)   # Plots F1(t) in a red solid line\n",
    "plt.plot(the_time, F2, 'k--', linewidth=2)  # Plots F2(t) in a black dashed line\n",
    "plt.xlabel('Time')           # Adds the label \"time\" to the x-axis\n",
    "plt.ylabel('Functions')      # Adds the label \"functions\" to the y-axis\n",
    "plt.legend(['F1','F2'])      # Creates a legend with entries \"F1\", \"F2\"\n",
    "plt.grid(True)               # Turns on the grid lines \n",
    "plt.title('Plots of F1 and F2')  # Gives the plot a title\n",
    "plt.show()  # actually show the plot (more important when not using a Jupyter notebook)"
   ]
  },
  {
   "cell_type": "code",
   "execution_count": null,
   "metadata": {},
   "outputs": [],
   "source": [
    "# Linear System Solving (2 equations + 2 unknowns) \n",
    "\n",
    "# Imagine we have the following 2 algebraic equations\n",
    "# z  + 2y = 1\n",
    "# 4z + 5y = 1\n",
    "\n",
    "A = np.array([[1, 2], [4, 5]])\n",
    "b = np.array([1, 1])\n",
    "\n",
    "# The following will solve Ax = b in a least-squares sense (if an exact solution doesn't exist)\n",
    "# Note that this is usually what A\\b does in matlab\n",
    "\n",
    "#  if function returns a bunch of stuff, and you don't care about that stuff, use a _\n",
    "x, _, _, _ = np.linalg.lstsq(A, b) \n",
    "print('Ax - b = ', A @ x - b)\n",
    "\n",
    "# Even for very large system\n",
    "\n",
    "AA = np.random.randn(100, 100)\n",
    "bb = np.random.randn(100)\n",
    "\n",
    "xx, _, _, _ = np.linalg.lstsq(AA, bb)  \n",
    "print('sum(AAxx - bb) = ', np.sum(AA @ xx - bb))  # get like 1e-14, pretty close to zero\n",
    "\n",
    "# You might get a FutureWarning here -- this is letting you know something\n",
    "# might be off in the lstsq function -- in this case it is fine"
   ]
  },
  {
   "cell_type": "code",
   "execution_count": null,
   "metadata": {},
   "outputs": [],
   "source": [
    "# Ordinary Differential Equations (ODE)\n",
    "from scipy.integrate import solve_ivp  # import the standard ODE solver in Python\n",
    "\n",
    "TSpan = [0, 10]     # Initial Time and Final Time\n",
    "t = np.linspace(0, 10, 1000)\n",
    "X_initial = [1, 0]  # Initial Conditions\n",
    "\n",
    "# solve_ivp wants a true function with arguments -- good time to show how to do that:\n",
    "# define a function that takes t and X0 as arguments, and returns \n",
    "def ode_test(t, X0): \n",
    "    X = np.zeros(2)\n",
    "    lam = 2\n",
    "    zeta = 1\n",
    "    X[0] = X0[1]\n",
    "    X[1] = - lam * X0[0] - zeta * X0[1]\n",
    "    return X\n",
    "\n",
    "# Now that we have defined a function that we want to call, solve the ODE\n",
    "# Calls the function ode_test at each time step and solves for new state\n",
    "# given initial state then repeats at every time step.\n",
    "ode_test_solution = solve_ivp(ode_test, TSpan, X_initial, t_eval=t)\n",
    "T_out = t\n",
    "Y_out = ode_test_solution.y.T  # transpose the solution for indexing later\n",
    "\n",
    "plt.figure()\n",
    "plt.plot(T_out, Y_out)\n",
    "plt.xlabel('Time')\n",
    "plt.ylabel('Solutions')\n",
    "plt.legend(['Position', 'Velocity'])\n",
    "plt.title('Position and Velocity')\n",
    "plt.grid(True)\n",
    "\n",
    "plt.figure()\n",
    "plt.plot(T_out, Y_out[:, 0])  # The \":\" here takes all elements in the rows \n",
    "                              # associated with the first column. This is called\n",
    "                              # index slicing and it is incredibly useful.\n",
    "plt.xlabel('Time')\n",
    "plt.ylabel('Solutions')\n",
    "plt.legend('Position')\n",
    "plt.title('Just Position')\n",
    "plt.grid(True)\n"
   ]
  },
  {
   "cell_type": "code",
   "execution_count": null,
   "metadata": {},
   "outputs": [],
   "source": [
    "# Animate your plots (if time)\n",
    "import matplotlib.animation as animation  # import the standard animation library\n",
    "\n",
    "# Enable an interactive plot in a Jupyter notebook\n",
    "%matplotlib notebook\n",
    "\n",
    "# Define a function to update your animation\n",
    "def update_line(num, t, data, line):\n",
    "    line.set_data(t[:num], data[:num])\n",
    "    return line,"
   ]
  },
  {
   "cell_type": "code",
   "execution_count": null,
   "metadata": {},
   "outputs": [],
   "source": [
    "fig = plt.figure()\n",
    "l, = plt.plot([], [], 'b')  # this code looks like nonsense but stick with it\n",
    "plt.xlim(0, 10)\n",
    "plt.ylim(-1, 1)\n",
    "plt.grid(True)\n",
    "easy_anim = animation.FuncAnimation(fig, update_line, range(0, 1000, 50), fargs=(T_out, Y_out[:, 0], l))\n",
    "\n",
    "# repeat for v\n",
    "fig = plt.figure()\n",
    "l, = plt.plot([], [], 'r')  # this code looks like nonsense but stick with it\n",
    "plt.xlim(0, 10)\n",
    "plt.ylim(-1, 1)\n",
    "plt.grid(True)\n",
    "easy_anim = animation.FuncAnimation(fig, update_line, range(0, 1000, 50), fargs=(T_out, Y_out[:, 1], l))"
   ]
  },
  {
   "cell_type": "markdown",
   "metadata": {},
   "source": [
    "## Credits\n",
    "This notebook was modified from [Dr. Steve Brunton & Dr. Alan Kaptanoglu who teach the Mechanical Engineering Analysis course at the University of Washington](http://faculty.washington.edu/sbrunton/me564/). Thanks to the great folks at [Binder](https://mybinder.org/) and [Google Colaboratory](https://colab.research.google.com/notebooks/intro.ipynb) for making this notebook interactive without you needing to download it or install [Jupyter](https://jupyter.org/) on your own device. Find more activities and license info at [CODINGinK12.org](http://www.codingink12.org)."
   ]
  }
 ],
 "metadata": {
  "kernelspec": {
   "display_name": "Python 3 (ipykernel)",
   "language": "python",
   "name": "python3"
  },
  "language_info": {
   "codemirror_mode": {
    "name": "ipython",
    "version": 3
   },
   "file_extension": ".py",
   "mimetype": "text/x-python",
   "name": "python",
   "nbconvert_exporter": "python",
   "pygments_lexer": "ipython3",
   "version": "3.9.13"
  }
 },
 "nbformat": 4,
 "nbformat_minor": 4
}
