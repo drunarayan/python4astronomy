{
 "cells": [
  {
   "cell_type": "markdown",
   "metadata": {
    "id": "zzKLEMods-DG"
   },
   "source": [
    "# Introduction to Jupyter Notebooks - your digital notebook!\n",
    "This is a *Jupyter notebook* with **Markdown Text/Image/Links** Blocks along with **Python Code** Blocks called ***cells***. You can press shift+ENTER to *run* a cell and go on to the next one. You can also edit by double-clicking inside the cell and run it (shift+ENTER) again to see how the output changes.\n",
    "\n",
    "You might see a popup window the first time saying \"Warning\". Don't worry, it's safe. Click on \"run anyway\".\n",
    "\n",
    "Try running the following cells by pressing SHIFT and ENTER (at the same time) for each one.\n",
    "\n",
    "*You won't hurt anything by experimenting. If you break it, close the tab and open the activity again to start over.*"
   ]
  },
  {
   "cell_type": "markdown",
   "metadata": {
    "id": "bE8YHJ1Fs-DK",
    "tags": []
   },
   "source": [
    "## Text/Images/Links using Markdown language\n",
    "The cells above are *code cells* that let you to run code. This is a *markdown cell* that contains markdown text. That's text that isn't read as Python code. Instead, you can format markdown text to look nice.\n",
    "\n",
    "***Double-click on this cell to see the markdown text underneath***. Running a markdown cell turns it into pretty, formatted text.  ***Shift-Enter to see the resulting output***.\n",
    "\n",
    "- here's a bullet point\n",
    "- and another bullet item in *italics* and **bold**.\n",
    "\n",
    "\n",
    "### Embed images from JupyterHub where your Jupyter Notebooks reside\n",
    "- ![Orion Nebula](m42.jpg)\n",
    "\n",
    "- You can even embed images or video from the web\n",
    "\n",
    "- ![cute kitten](https://img.freepik.com/premium-photo/two-little-cute-kittens-light-orange-background_199743-4934.jpg) \n",
    "\n",
    "- Here is a Rck Astley video, wait a few seconds for youtube to load the ***correct video***, you may have to also skip the ads!\n",
    "\n",
    "- [![IMAGE_ALT](https://img.youtube.com/vi/dQw4w9WgXcQ/0.jpg)](https://www.youtube.com/watch?v=dQw4w9WgXcQ)\n",
    "\n",
    "Double-click on this cell to see the code that formats this text. Make a few edits and press shift+ENTER to see the changes.\n",
    "\n",
    "Read more about [formatting the markdown text](https://help.github.com/articles/basic-writing-and-formatting-syntax/) in a cell, like this one, or go to Help > Markdown > Basic Writing and Formatting Text."
   ]
  },
  {
   "cell_type": "markdown",
   "metadata": {},
   "source": [
    "### Try to write your Markdown syntax in this cell. Add a subheading and Insert your favourte youtube video by copying code from the previous cell\n",
    "\n",
    "\n",
    "Double-click on this cell or the previous cell to see the code that formats this text. Make a few edits and press shift+ENTER to see the changes.\n"
   ]
  },
  {
   "cell_type": "code",
   "execution_count": null,
   "metadata": {
    "id": "zIKRAz00s-DI"
   },
   "outputs": [],
   "source": [
    "# Click on this cell. Then, press SHIFT and ENTER at the same time.\n",
    "2+2"
   ]
  },
  {
   "cell_type": "code",
   "execution_count": null,
   "metadata": {
    "id": "dyiXtqQms-DI"
   },
   "outputs": [],
   "source": [
    "# This is called a \"comment\". It's a message to other humans.\n",
    "# Starting with # tells the program not to read this line.\n",
    "# the program will run the next line since it doesn't start with #\n",
    "5-4"
   ]
  },
  {
   "cell_type": "code",
   "execution_count": null,
   "metadata": {
    "id": "3bPsF-2Ys-DJ",
    "tags": []
   },
   "outputs": [],
   "source": [
    "# the following lines define variables called \"a\" and \"b\"\n",
    "a = 4\n",
    "b = 3\n",
    "\n",
    "# the next line shows us what a plus b is.\n",
    "a+b"
   ]
  },
  {
   "cell_type": "code",
   "execution_count": null,
   "metadata": {
    "id": "T7-zwdXks-DJ"
   },
   "outputs": [],
   "source": [
    "c = a*a # this line calculates a times a and saves the result as a varialbe called \"c\"\n",
    "c       # this line tells the program to show us what \"c\" is."
   ]
  },
  {
   "cell_type": "code",
   "execution_count": null,
   "metadata": {
    "id": "Ig8FL1OUs-DJ"
   },
   "outputs": [],
   "source": [
    "# this coding language is called \"python\"\n",
    "d = \"I just coded in Python\" # yep you did!\n",
    "d"
   ]
  },
  {
   "cell_type": "markdown",
   "metadata": {
    "id": "iSzz41bxs-DJ"
   },
   "source": [
    "Try editing some of the code above.\n",
    "- Edit some code to do a different calculation\n",
    "- Add a comment somehwere\n",
    "\n",
    "You can run a cell again by pressing shift+ENTER. "
   ]
  },
  {
   "cell_type": "code",
   "execution_count": null,
   "metadata": {
    "id": "dQzgVOyus-DJ"
   },
   "outputs": [],
   "source": [
    "# Can you figure out what ** does?\n",
    "e = b**a\n",
    "e"
   ]
  },
  {
   "cell_type": "code",
   "execution_count": null,
   "metadata": {},
   "outputs": [],
   "source": [
    "## Here is an example of an \"embedded\" youtube video from a code cell!"
   ]
  },
  {
   "cell_type": "code",
   "execution_count": null,
   "metadata": {
    "tags": []
   },
   "outputs": [],
   "source": [
    "\n",
    "from IPython.display import YouTubeVideo\n",
    "# A black hole that sings!\n",
    "YouTubeVideo('ioR5np1fmEc')"
   ]
  },
  {
   "cell_type": "markdown",
   "metadata": {
    "id": "qteGnEKis-DK",
    "tags": []
   },
   "source": [
    "---\n",
    "## Saving Your Work\n",
    "This is running on a Google server on a distant planet and deletes what you've done when you close this tab. To save your work for later use or analysis you have a few options:\n",
    "- File > \"Save Notebook\" will save your own copy to your Home folder on JupyterHub. You can run it later from there.  \n",
    "- File > \"Download\" to save a \" .ipynb\" file to your computer (and run with Jupyter software later)\n",
    "- File > Print to ... um ... print.\n",
    "- Save an image to your computer of a graph or chart, right-click on it and select Save Image as ...\n",
    "\n",
    "## Credits\n",
    "This notebook was modified from [Adam LaMee](https://adamlamee.github.io/). Thanks to the great folks at [Binder](https://mybinder.org/) and [Google Colaboratory](https://colab.research.google.com/notebooks/intro.ipynb) for making this notebook interactive without you needing to download it or install [Jupyter](https://jupyter.org/) on your own device. Find more activities and license info at [CODINGinK12.org](http://www.codingink12.org)."
   ]
  },
  {
   "cell_type": "code",
   "execution_count": null,
   "metadata": {},
   "outputs": [],
   "source": []
  }
 ],
 "metadata": {
  "colab": {
   "provenance": []
  },
  "kernelspec": {
   "display_name": "Python 3 (ipykernel)",
   "language": "python",
   "name": "python3"
  },
  "language_info": {
   "codemirror_mode": {
    "name": "ipython",
    "version": 3
   },
   "file_extension": ".py",
   "mimetype": "text/x-python",
   "name": "python",
   "nbconvert_exporter": "python",
   "pygments_lexer": "ipython3",
   "version": "3.9.13"
  }
 },
 "nbformat": 4,
 "nbformat_minor": 4
}
