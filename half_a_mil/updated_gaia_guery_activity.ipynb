{
 "cells": [
  {
   "cell_type": "markdown",
   "metadata": {
    "id": "oTxWIvp594tS"
   },
   "source": [
    "## How to Query and Plot data from the Gaia Sattelite Database?</h1>\n",
    "\n",
    "Here are some useful links \n",
    "- [European Space Agency Gaia Mission - Writing Queries Turorial](https://www.cosmos.esa.int/web/gaia-users/archive/writing-queries)\n",
    "- [Gaia's Hertzsprung-Russel Diagram](https://sci.esa.int/web/gaia/-/60198-gaia-hertzsprung-russell-diagram)\n",
    "\n",
    "In the examples below we will query ***half-a-million stars within 200 Parsecs of the sun and plot it in a Hertzsprung-Russel Diagram (HRD)***\n"
   ]
  },
  {
   "cell_type": "code",
   "execution_count": 1,
   "metadata": {},
   "outputs": [],
   "source": [
    "#!echo $PATH  # for debugging as needed"
   ]
  },
  {
   "cell_type": "code",
   "execution_count": 2,
   "metadata": {
    "colab": {
     "base_uri": "https://localhost:8080/"
    },
    "id": "nkl-ZgmDcx_a",
    "outputId": "c2a8f157-ba4d-492e-f52b-a6c293a16e89"
   },
   "outputs": [
    {
     "name": "stdout",
     "output_type": "stream",
     "text": [
      "total 4\n",
      "drwxr-xr-x 2 jupyter-chandru jupyter-chandru 4096 Nov 18 01:35 'Untitled Folder'\n"
     ]
    }
   ],
   "source": [
    "# Data Folder\n",
    "data_folder=\"data_folder\"\n",
    "!ls -l {data_folder}"
   ]
  },
  {
   "cell_type": "code",
   "execution_count": 3,
   "metadata": {},
   "outputs": [],
   "source": [
    "#!pip list  # for debugging as needed"
   ]
  },
  {
   "cell_type": "code",
   "execution_count": 4,
   "metadata": {},
   "outputs": [],
   "source": [
    "#EXECUTE THIS CELL THEN RESTART KERNEL\n",
    "#!pip install astroquery  # for debugging as needed"
   ]
  },
  {
   "cell_type": "code",
   "execution_count": 5,
   "metadata": {
    "colab": {
     "base_uri": "https://localhost:8080/"
    },
    "id": "vVONSbyihGsx",
    "outputId": "0d3e3d8d-a624-4771-e674-97455759ee7e"
   },
   "outputs": [
    {
     "name": "stdout",
     "output_type": "stream",
     "text": [
      "INFO: Retrieving tables... [astroquery.utils.tap.core]\n",
      "INFO: Parsing tables... [astroquery.utils.tap.core]\n",
      "INFO: Done. [astroquery.utils.tap.core]\n",
      "external.apassdr9\n",
      "external.gaiadr2_astrophysical_parameters\n",
      "external.gaiadr2_geometric_distance\n",
      "external.gaiaedr3_distance\n",
      "external.gaiaedr3_gcns_main_1\n",
      "external.gaiaedr3_gcns_rejected_1\n",
      "external.gaiaedr3_spurious\n",
      "external.galex_ais\n",
      "external.ravedr5_com\n",
      "external.ravedr5_dr5\n",
      "external.ravedr5_gra\n",
      "external.ravedr5_on\n",
      "external.ravedr6\n",
      "external.sdssdr13_photoprimary\n",
      "external.skymapperdr1_master\n",
      "external.skymapperdr2_master\n",
      "external.tmass_xsc\n",
      "gaiadr1.aux_qso_icrf2_match\n",
      "gaiadr1.ext_phot_zero_point\n",
      "gaiadr1.allwise_best_neighbour\n",
      "gaiadr1.allwise_neighbourhood\n",
      "gaiadr1.gsc23_best_neighbour\n",
      "gaiadr1.gsc23_neighbourhood\n",
      "gaiadr1.ppmxl_best_neighbour\n",
      "gaiadr1.ppmxl_neighbourhood\n",
      "gaiadr1.sdss_dr9_best_neighbour\n",
      "gaiadr1.sdss_dr9_neighbourhood\n",
      "gaiadr1.tmass_best_neighbour\n",
      "gaiadr1.tmass_neighbourhood\n",
      "gaiadr1.ucac4_best_neighbour\n",
      "gaiadr1.ucac4_neighbourhood\n",
      "gaiadr1.urat1_best_neighbour\n",
      "gaiadr1.urat1_neighbourhood\n",
      "gaiadr1.cepheid\n",
      "gaiadr1.phot_variable_time_series_gfov\n",
      "gaiadr1.phot_variable_time_series_gfov_statistical_parameters\n",
      "gaiadr1.rrlyrae\n",
      "gaiadr1.variable_summary\n",
      "gaiadr1.allwise_original_valid\n",
      "gaiadr1.gsc23_original_valid\n",
      "gaiadr1.ppmxl_original_valid\n",
      "gaiadr1.sdssdr9_original_valid\n",
      "gaiadr1.tmass_original_valid\n",
      "gaiadr1.ucac4_original_valid\n",
      "gaiadr1.urat1_original_valid\n",
      "gaiadr1.gaia_source\n",
      "gaiadr1.tgas_source\n",
      "gaiadr2.aux_allwise_agn_gdr2_cross_id\n",
      "gaiadr2.aux_iers_gdr2_cross_id\n",
      "gaiadr2.aux_sso_orbit_residuals\n",
      "gaiadr2.aux_sso_orbits\n",
      "gaiadr2.dr1_neighbourhood\n",
      "gaiadr2.allwise_best_neighbour\n",
      "gaiadr2.allwise_neighbourhood\n",
      "gaiadr2.apassdr9_best_neighbour\n",
      "gaiadr2.apassdr9_neighbourhood\n",
      "gaiadr2.gsc23_best_neighbour\n",
      "gaiadr2.gsc23_neighbourhood\n",
      "gaiadr2.hipparcos2_best_neighbour\n",
      "gaiadr2.hipparcos2_neighbourhood\n",
      "gaiadr2.panstarrs1_best_neighbour\n",
      "gaiadr2.panstarrs1_neighbourhood\n",
      "gaiadr2.ppmxl_best_neighbour\n",
      "gaiadr2.ppmxl_neighbourhood\n",
      "gaiadr2.ravedr5_best_neighbour\n",
      "gaiadr2.ravedr5_neighbourhood\n",
      "gaiadr2.sdssdr9_best_neighbour\n",
      "gaiadr2.sdssdr9_neighbourhood\n",
      "gaiadr2.tmass_best_neighbour\n",
      "gaiadr2.tmass_neighbourhood\n",
      "gaiadr2.tycho2_best_neighbour\n",
      "gaiadr2.tycho2_neighbourhood\n",
      "gaiadr2.urat1_best_neighbour\n",
      "gaiadr2.urat1_neighbourhood\n",
      "gaiadr2.sso_observation\n",
      "gaiadr2.sso_source\n",
      "gaiadr2.vari_cepheid\n",
      "gaiadr2.vari_classifier_class_definition\n",
      "gaiadr2.vari_classifier_definition\n",
      "gaiadr2.vari_classifier_result\n",
      "gaiadr2.vari_long_period_variable\n",
      "gaiadr2.vari_rotation_modulation\n",
      "gaiadr2.vari_rrlyrae\n",
      "gaiadr2.vari_short_timescale\n",
      "gaiadr2.vari_time_series_statistics\n",
      "gaiadr2.panstarrs1_original_valid\n",
      "gaiadr2.gaia_source\n",
      "gaiadr2.ruwe\n",
      "gaiadr3.gaia_source\n",
      "gaiadr3.gaia_source_lite\n",
      "gaiadr3.astrophysical_parameters\n",
      "gaiadr3.astrophysical_parameters_supp\n",
      "gaiadr3.oa_neuron_information\n",
      "gaiadr3.oa_neuron_xp_spectra\n",
      "gaiadr3.total_galactic_extinction_map\n",
      "gaiadr3.total_galactic_extinction_map_opt\n",
      "gaiadr3.commanded_scan_law\n",
      "gaiadr3.allwise_best_neighbour\n",
      "gaiadr3.allwise_neighbourhood\n",
      "gaiadr3.apassdr9_best_neighbour\n",
      "gaiadr3.apassdr9_join\n",
      "gaiadr3.apassdr9_neighbourhood\n",
      "gaiadr3.dr2_neighbourhood\n",
      "gaiadr3.gsc23_best_neighbour\n",
      "gaiadr3.gsc23_join\n",
      "gaiadr3.gsc23_neighbourhood\n",
      "gaiadr3.hipparcos2_best_neighbour\n",
      "gaiadr3.hipparcos2_neighbourhood\n",
      "gaiadr3.panstarrs1_best_neighbour\n",
      "gaiadr3.panstarrs1_join\n",
      "gaiadr3.panstarrs1_neighbourhood\n",
      "gaiadr3.ravedr5_best_neighbour\n",
      "gaiadr3.ravedr5_join\n",
      "gaiadr3.ravedr5_neighbourhood\n",
      "gaiadr3.ravedr6_best_neighbour\n",
      "gaiadr3.ravedr6_join\n",
      "gaiadr3.ravedr6_neighbourhood\n",
      "gaiadr3.sdssdr13_best_neighbour\n",
      "gaiadr3.sdssdr13_join\n",
      "gaiadr3.sdssdr13_neighbourhood\n",
      "gaiadr3.skymapperdr2_best_neighbour\n",
      "gaiadr3.skymapperdr2_join\n",
      "gaiadr3.skymapperdr2_neighbourhood\n",
      "gaiadr3.tmass_psc_xsc_best_neighbour\n",
      "gaiadr3.tmass_psc_xsc_join\n",
      "gaiadr3.tmass_psc_xsc_neighbourhood\n",
      "gaiadr3.tycho2tdsc_merge_best_neighbour\n",
      "gaiadr3.tycho2tdsc_merge_neighbourhood\n",
      "gaiadr3.urat1_best_neighbour\n",
      "gaiadr3.urat1_neighbourhood\n",
      "gaiadr3.galaxy_candidates\n",
      "gaiadr3.galaxy_catalogue_name\n",
      "gaiadr3.qso_candidates\n",
      "gaiadr3.qso_catalogue_name\n",
      "gaiadr3.nss_acceleration_astro\n",
      "gaiadr3.nss_non_linear_spectro\n",
      "gaiadr3.nss_two_body_orbit\n",
      "gaiadr3.nss_vim_fl\n",
      "gaiadr3.binary_masses\n",
      "gaiadr3.gold_sample_carbon_stars\n",
      "gaiadr3.gold_sample_fgkm_stars\n",
      "gaiadr3.gold_sample_oba_stars\n",
      "gaiadr3.gold_sample_solar_analogues\n",
      "gaiadr3.gold_sample_spss\n",
      "gaiadr3.gold_sample_ucd\n",
      "gaiadr3.sso_orbits\n",
      "gaiadr3.synthetic_photometry_gspc\n",
      "gaiadr3.agn_cross_id\n",
      "gaiadr3.frame_rotator_source\n",
      "gaiadr3.gaia_crf3_xm\n",
      "gaiadr3.alerts_mixedin_sourceids\n",
      "gaiadr3.science_alerts\n",
      "gaiadr3.gaia_source_simulation\n",
      "gaiadr3.gaia_universe_model\n",
      "gaiadr3.sso_observation\n",
      "gaiadr3.sso_reflectance_spectrum\n",
      "gaiadr3.sso_source\n",
      "gaiadr3.xp_summary\n",
      "gaiadr3.vari_agn\n",
      "gaiadr3.vari_cepheid\n",
      "gaiadr3.vari_classifier_class_definition\n",
      "gaiadr3.vari_classifier_definition\n",
      "gaiadr3.vari_classifier_result\n",
      "gaiadr3.vari_compact_companion\n",
      "gaiadr3.vari_eclipsing_binary\n",
      "gaiadr3.vari_epoch_radial_velocity\n",
      "gaiadr3.vari_long_period_variable\n",
      "gaiadr3.vari_microlensing\n",
      "gaiadr3.vari_ms_oscillator\n",
      "gaiadr3.vari_planetary_transit\n",
      "gaiadr3.vari_rad_vel_statistics\n",
      "gaiadr3.vari_rotation_modulation\n",
      "gaiadr3.vari_rrlyrae\n",
      "gaiadr3.vari_short_timescale\n",
      "gaiadr3.vari_summary\n",
      "gaiadr3.tycho2tdsc_merge\n",
      "gaiaedr3.gaia_source\n",
      "gaiaedr3.agn_cross_id\n",
      "gaiaedr3.commanded_scan_law\n",
      "gaiaedr3.dr2_neighbourhood\n",
      "gaiaedr3.frame_rotator_source\n",
      "gaiaedr3.allwise_best_neighbour\n",
      "gaiaedr3.allwise_neighbourhood\n",
      "gaiaedr3.apassdr9_best_neighbour\n",
      "gaiaedr3.apassdr9_join\n",
      "gaiaedr3.apassdr9_neighbourhood\n",
      "gaiaedr3.gsc23_best_neighbour\n",
      "gaiaedr3.gsc23_join\n",
      "gaiaedr3.gsc23_neighbourhood\n",
      "gaiaedr3.hipparcos2_best_neighbour\n",
      "gaiaedr3.hipparcos2_neighbourhood\n",
      "gaiaedr3.panstarrs1_best_neighbour\n",
      "gaiaedr3.panstarrs1_join\n",
      "gaiaedr3.panstarrs1_neighbourhood\n",
      "gaiaedr3.ravedr5_best_neighbour\n",
      "gaiaedr3.ravedr5_join\n",
      "gaiaedr3.ravedr5_neighbourhood\n",
      "gaiaedr3.sdssdr13_best_neighbour\n",
      "gaiaedr3.sdssdr13_join\n",
      "gaiaedr3.sdssdr13_neighbourhood\n",
      "gaiaedr3.skymapperdr2_best_neighbour\n",
      "gaiaedr3.skymapperdr2_join\n",
      "gaiaedr3.skymapperdr2_neighbourhood\n",
      "gaiaedr3.tmass_psc_xsc_best_neighbour\n",
      "gaiaedr3.tmass_psc_xsc_join\n",
      "gaiaedr3.tmass_psc_xsc_neighbourhood\n",
      "gaiaedr3.tycho2tdsc_merge_best_neighbour\n",
      "gaiaedr3.tycho2tdsc_merge_neighbourhood\n",
      "gaiaedr3.urat1_best_neighbour\n",
      "gaiaedr3.urat1_neighbourhood\n",
      "gaiaedr3.gaia_source_simulation\n",
      "gaiaedr3.gaia_universe_model\n",
      "gaiaedr3.tycho2tdsc_merge\n",
      "public.hipparcos\n",
      "public.hipparcos_newreduction\n",
      "public.hubble_sc\n",
      "public.igsl_source\n",
      "public.igsl_source_catalog_ids\n",
      "public.tycho2\n",
      "public.dual\n",
      "tap_config.coord_sys\n",
      "tap_config.properties\n",
      "tap_schema.columns\n",
      "tap_schema.key_columns\n",
      "tap_schema.keys\n",
      "tap_schema.schemas\n",
      "tap_schema.tables\n"
     ]
    }
   ],
   "source": [
    "# Create Access to the Gaia Database\n",
    "from astroquery.gaia import Gaia\n",
    "\n",
    "# Load Tables from the Gai Database\n",
    "tables = Gaia.load_tables(only_names=True)\n",
    "\n",
    "# Print the Table Names in the Gaia Database\n",
    "for table in tables:\n",
    "    print(table.name)"
   ]
  },
  {
   "cell_type": "code",
   "execution_count": 6,
   "metadata": {
    "colab": {
     "base_uri": "https://localhost:8080/"
    },
    "id": "DNwWJAUkiFNY",
    "outputId": "d92888ab-40fd-46ca-8834-773df91e545c"
   },
   "outputs": [
    {
     "name": "stdout",
     "output_type": "stream",
     "text": [
      "Retrieving table 'gaiadr2.gaia_source'\n",
      "TAP Table name: gaiadr2.gaiadr2.gaia_source\n",
      "Description: This table has an entry for every Gaia observed source as listed in the\n",
      "Main Database accumulating catalogue version from which the catalogue\n",
      "release has been generated. It contains the basic source parameters,\n",
      "that is only final data (no epoch data) and no spectra (neither final\n",
      "nor epoch).\n",
      "Num. columns: 95\n"
     ]
    }
   ],
   "source": [
    "# Get Gaia Sources Table\n",
    "meta = Gaia.load_table('gaiadr2.gaia_source')\n",
    "print(meta)"
   ]
  },
  {
   "cell_type": "code",
   "execution_count": 7,
   "metadata": {
    "colab": {
     "base_uri": "https://localhost:8080/"
    },
    "id": "QKbpkSZUiMJS",
    "outputId": "5eca4d0f-b955-40a4-d673-2118859505e4"
   },
   "outputs": [
    {
     "name": "stdout",
     "output_type": "stream",
     "text": [
      "solution_id\n",
      "designation\n",
      "source_id\n",
      "random_index\n",
      "ref_epoch\n",
      "ra\n",
      "ra_error\n",
      "dec\n",
      "dec_error\n",
      "parallax\n",
      "parallax_error\n",
      "parallax_over_error\n",
      "pmra\n",
      "pmra_error\n",
      "pmdec\n",
      "pmdec_error\n",
      "ra_dec_corr\n",
      "ra_parallax_corr\n",
      "ra_pmra_corr\n",
      "ra_pmdec_corr\n",
      "dec_parallax_corr\n",
      "dec_pmra_corr\n",
      "dec_pmdec_corr\n",
      "parallax_pmra_corr\n",
      "parallax_pmdec_corr\n",
      "pmra_pmdec_corr\n",
      "astrometric_n_obs_al\n",
      "astrometric_n_obs_ac\n",
      "astrometric_n_good_obs_al\n",
      "astrometric_n_bad_obs_al\n",
      "astrometric_gof_al\n",
      "astrometric_chi2_al\n",
      "astrometric_excess_noise\n",
      "astrometric_excess_noise_sig\n",
      "astrometric_params_solved\n",
      "astrometric_primary_flag\n",
      "astrometric_weight_al\n",
      "astrometric_pseudo_colour\n",
      "astrometric_pseudo_colour_error\n",
      "mean_varpi_factor_al\n",
      "astrometric_matched_observations\n",
      "visibility_periods_used\n",
      "astrometric_sigma5d_max\n",
      "frame_rotator_object_type\n",
      "matched_observations\n",
      "duplicated_source\n",
      "phot_g_n_obs\n",
      "phot_g_mean_flux\n",
      "phot_g_mean_flux_error\n",
      "phot_g_mean_flux_over_error\n",
      "phot_g_mean_mag\n",
      "phot_bp_n_obs\n",
      "phot_bp_mean_flux\n",
      "phot_bp_mean_flux_error\n",
      "phot_bp_mean_flux_over_error\n",
      "phot_bp_mean_mag\n",
      "phot_rp_n_obs\n",
      "phot_rp_mean_flux\n",
      "phot_rp_mean_flux_error\n",
      "phot_rp_mean_flux_over_error\n",
      "phot_rp_mean_mag\n",
      "phot_bp_rp_excess_factor\n",
      "phot_proc_mode\n",
      "bp_rp\n",
      "bp_g\n",
      "g_rp\n",
      "radial_velocity\n",
      "radial_velocity_error\n",
      "rv_nb_transits\n",
      "rv_template_teff\n",
      "rv_template_logg\n",
      "rv_template_fe_h\n",
      "phot_variable_flag\n",
      "l\n",
      "b\n",
      "ecl_lon\n",
      "ecl_lat\n",
      "priam_flags\n",
      "teff_val\n",
      "teff_percentile_lower\n",
      "teff_percentile_upper\n",
      "a_g_val\n",
      "a_g_percentile_lower\n",
      "a_g_percentile_upper\n",
      "e_bp_min_rp_val\n",
      "e_bp_min_rp_percentile_lower\n",
      "e_bp_min_rp_percentile_upper\n",
      "flame_flags\n",
      "radius_val\n",
      "radius_percentile_lower\n",
      "radius_percentile_upper\n",
      "lum_val\n",
      "lum_percentile_lower\n",
      "lum_percentile_upper\n",
      "datalink_url\n"
     ]
    }
   ],
   "source": [
    "# Print all columns in the Gaia Source Table\n",
    "for column in meta.columns:\n",
    "    print(column.name)"
   ]
  },
  {
   "cell_type": "code",
   "execution_count": 8,
   "metadata": {
    "colab": {
     "base_uri": "https://localhost:8080/"
    },
    "id": "xW2hZkfmikxP",
    "outputId": "d78fca0a-2cb0-4fe2-ae4f-d78e3eb060bb"
   },
   "outputs": [
    {
     "name": "stdout",
     "output_type": "stream",
     "text": [
      "<Table length=10>\n",
      "   name    dtype  unit                            description                             n_bad\n",
      "--------- ------- ---- ------------------------------------------------------------------ -----\n",
      "source_id   int64      Unique source identifier (unique within a particular Data Release)     0\n",
      "       ra float64  deg                                                    Right ascension     0\n",
      "      dec float64  deg                                                        Declination     0\n",
      " parallax float64  mas                                                           Parallax     1\n",
      "Jobid: None\n",
      "Phase: COMPLETED\n",
      "Owner: None\n",
      "Output file: 1668735341936O-result.vot.gz\n",
      "Results: None\n"
     ]
    }
   ],
   "source": [
    "# Create a Synchronous (immediate submit) Query Job \n",
    "# for just the top 10 rows from the table retrieving\n",
    "# columns source_id, ra, dec, parallax (How did I know the column names ??)\n",
    "# note that it validates and gives you the units, description and bad rows!\n",
    "query1 = \"\"\"SELECT \n",
    "TOP 10\n",
    "source_id, ra, dec, parallax \n",
    "FROM gaiadr2.gaia_source\n",
    "\"\"\"\n",
    "job1 = Gaia.launch_job(query1)\n",
    "job1\n",
    "print(job1)"
   ]
  },
  {
   "cell_type": "code",
   "execution_count": 9,
   "metadata": {
    "colab": {
     "base_uri": "https://localhost:8080/",
     "height": 314
    },
    "id": "V8YRnNqejK9E",
    "outputId": "d315c782-d1ab-4aed-a48e-f8d5e5fd5293"
   },
   "outputs": [
    {
     "data": {
      "text/html": [
       "<div><i>Table length=10</i>\n",
       "<table id=\"table139649296716224\" class=\"table-striped table-bordered table-condensed\">\n",
       "<thead><tr><th>source_id</th><th>ra</th><th>dec</th><th>parallax</th></tr></thead>\n",
       "<thead><tr><th></th><th>deg</th><th>deg</th><th>mas</th></tr></thead>\n",
       "<thead><tr><th>int64</th><th>float64</th><th>float64</th><th>float64</th></tr></thead>\n",
       "<tr><td>4243332511975918592</td><td>304.09455533555916</td><td>2.441323389933233</td><td>-0.13945405901420282</td></tr>\n",
       "<tr><td>4243319219050679424</td><td>304.1686005270349</td><td>2.3672245638822322</td><td>0.5733693934686754</td></tr>\n",
       "<tr><td>4243410409796187520</td><td>305.09308579533223</td><td>2.9097702429728516</td><td>--</td></tr>\n",
       "<tr><td>4243317191828451456</td><td>304.41257120187015</td><td>2.3663683051256355</td><td>0.7896950434950573</td></tr>\n",
       "<tr><td>4243382024357296768</td><td>305.02234723889535</td><td>2.5621225813846435</td><td>0.2054928242561274</td></tr>\n",
       "<tr><td>4243316435911870720</td><td>304.2490480545997</td><td>2.348076531440825</td><td>1.184637693324672</td></tr>\n",
       "<tr><td>4243371720730333952</td><td>304.3608280207523</td><td>2.7847819451639517</td><td>0.8785722864124084</td></tr>\n",
       "<tr><td>4243396318010095744</td><td>305.0733128326968</td><td>2.681387830575093</td><td>1.786026035232414</td></tr>\n",
       "<tr><td>4243369654852543104</td><td>304.56185468314646</td><td>2.807666218094412</td><td>0.4582117449871894</td></tr>\n",
       "<tr><td>4243389897031993728</td><td>305.3117552056024</td><td>2.6814423100772395</td><td>0.5675051570993737</td></tr>\n",
       "</table></div>"
      ],
      "text/plain": [
       "<Table length=10>\n",
       "     source_id              ra                dec               parallax      \n",
       "                           deg                deg                 mas         \n",
       "       int64             float64            float64             float64       \n",
       "------------------- ------------------ ------------------ --------------------\n",
       "4243332511975918592 304.09455533555916  2.441323389933233 -0.13945405901420282\n",
       "4243319219050679424  304.1686005270349 2.3672245638822322   0.5733693934686754\n",
       "4243410409796187520 305.09308579533223 2.9097702429728516                   --\n",
       "4243317191828451456 304.41257120187015 2.3663683051256355   0.7896950434950573\n",
       "4243382024357296768 305.02234723889535 2.5621225813846435   0.2054928242561274\n",
       "4243316435911870720  304.2490480545997  2.348076531440825    1.184637693324672\n",
       "4243371720730333952  304.3608280207523 2.7847819451639517   0.8785722864124084\n",
       "4243396318010095744  305.0733128326968  2.681387830575093    1.786026035232414\n",
       "4243369654852543104 304.56185468314646  2.807666218094412   0.4582117449871894\n",
       "4243389897031993728  305.3117552056024 2.6814423100772395   0.5675051570993737"
      ]
     },
     "execution_count": 9,
     "metadata": {},
     "output_type": "execute_result"
    }
   ],
   "source": [
    "# This statement below retrieves the result (note only 10 rows retrieved because that is what we asked for!)\n",
    "results = job1.get_results()\n",
    "results"
   ]
  },
  {
   "cell_type": "code",
   "execution_count": 10,
   "metadata": {
    "colab": {
     "base_uri": "https://localhost:8080/"
    },
    "id": "Bw06T3Knjikq",
    "outputId": "33d46c98-a935-40fa-9e3a-c3afc0ae5f2b"
   },
   "outputs": [
    {
     "name": "stdout",
     "output_type": "stream",
     "text": [
      "INFO: Query finished. [astroquery.utils.tap.core]\n",
      "<Table length=2000>\n",
      "   name    dtype    unit                              description                             n_bad\n",
      "--------- ------- -------- ------------------------------------------------------------------ -----\n",
      "source_id   int64          Unique source identifier (unique within a particular Data Release)     0\n",
      "       ra float64      deg                                                    Right ascension     0\n",
      "      dec float64      deg                                                        Declination     0\n",
      "     pmra float64 mas / yr                         Proper motion in right ascension direction     0\n",
      "    pmdec float64 mas / yr                             Proper motion in declination direction     0\n",
      " parallax float64      mas                                                           Parallax     0\n",
      "    bp_rp float32      mag                                                     BP - RP colour   168\n",
      "Jobid: 1668735352253O\n",
      "Phase: COMPLETED\n",
      "Owner: None\n",
      "Output file: async_20221118013552.vot\n",
      "Results: None\n"
     ]
    }
   ],
   "source": [
    "# Create a Asynchronous (scheduled submit) Query Job\n",
    "# for just the top 2000 rows from the table retrieving\n",
    "# columns source_id, ra, dec, pmra, pmdec, parallax, bp_rp \n",
    "# with a WHERE clause\n",
    "# note that it validates and gives you the units, description and bad rows!\n",
    "# What does Parallax < 1 mean in terms of distance ??  d = 1/p\n",
    "query2 = \"\"\"SELECT \n",
    "TOP 2000\n",
    "source_id, ra, dec, pmra, pmdec, parallax, bp_rp\n",
    "FROM gaiadr2.gaia_source\n",
    "WHERE parallax < 1 and parallax > 0\n",
    "\"\"\"\n",
    "job2 = Gaia.launch_job_async(query2)\n",
    "print(job2)"
   ]
  },
  {
   "cell_type": "code",
   "execution_count": null,
   "metadata": {
    "colab": {
     "base_uri": "https://localhost:8080/",
     "height": 528
    },
    "id": "0QN2pjdXjwBw",
    "outputId": "f449b1b9-2cac-40fc-cf4b-b993c3b9f35a"
   },
   "outputs": [],
   "source": [
    "# This statement below retrieves the result (note 2000 rows retrieved because that is what we asked for!)\n",
    "results = job2.get_results()\n",
    "results"
   ]
  },
  {
   "cell_type": "code",
   "execution_count": 20,
   "metadata": {
    "id": "1yRdrqFso8uE"
   },
   "outputs": [],
   "source": [
    "# Here I am defining a python function to execute a asynchronous query which I can then pass to a Job\n",
    "def send_radial_new_gaia_query(query_size=500, distance=200, **kwargs):\n",
    "    \"\"\"\n",
    "    Sends an archive query for d < 200 pc, with additional filters taken from\n",
    "    Gaia Data Release 2: Observational Hertzsprung-Russell diagrams (Sect. 2.1)\n",
    "    Gaia Collaboration, Babusiaux et al. (2018)\n",
    "    (https://doi.org/10.1051/0004-6361/201832843)\n",
    "\n",
    "    NOTE: 10000000 is a maximum query size (~76 MB / column)\n",
    "\n",
    "    Additional keyword arguments are passed to Gaia.launch_job_async method.\n",
    "    \"\"\"\n",
    "    query3 = (\" SELECT\"\n",
    "            \" TOP {}\".format(query_size)+\n",
    "#            \" source_id, ra, dec, pmra, pmdec, parallax, bp_rp, phot_g_mean_mag+5*log10(parallax)-10 as mg, 1000/parallax as dist\"\n",
    "            \" source_id, ra, dec, pmra, pmdec, parallax, bp_rp, phot_g_mean_mag, 1000/parallax as dist\"\n",
    "            \" FROM gaiadr2.gaia_source\"\n",
    "            \" WHERE parallax > 0\"\n",
    "            \" AND bp_rp > -0.75\"\n",
    "            \" AND bp_rp < 2\"\n",
    "            \" AND 1000/parallax <= {}\".format(distance)\n",
    "    )\n",
    "    job = Gaia.launch_job_async(query3, **kwargs)\n",
    "    return job"
   ]
  },
  {
   "cell_type": "code",
   "execution_count": 21,
   "metadata": {
    "colab": {
     "base_uri": "https://localhost:8080/",
     "height": 566
    },
    "id": "SB2sWiWQr6JA",
    "outputId": "fa44ee59-47e2-45a4-d340-6089a55721e3"
   },
   "outputs": [
    {
     "name": "stdout",
     "output_type": "stream",
     "text": [
      "INFO: Query finished. [astroquery.utils.tap.core]\n"
     ]
    },
    {
     "data": {
      "text/html": [
       "<div><i>Table length=10000</i>\n",
       "<table id=\"table139647923798992\" class=\"table-striped table-bordered table-condensed\">\n",
       "<thead><tr><th>source_id</th><th>ra</th><th>dec</th><th>pmra</th><th>pmdec</th><th>parallax</th><th>bp_rp</th><th>phot_g_mean_mag</th><th>dist</th></tr></thead>\n",
       "<thead><tr><th></th><th>deg</th><th>deg</th><th>mas / yr</th><th>mas / yr</th><th>mas</th><th>mag</th><th>mag</th><th></th></tr></thead>\n",
       "<thead><tr><th>int64</th><th>float64</th><th>float64</th><th>float64</th><th>float64</th><th>float64</th><th>float32</th><th>float32</th><th>float64</th></tr></thead>\n",
       "<tr><td>5958932738587053824</td><td>263.43993702712055</td><td>-42.46909007141257</td><td>-5.065674786264608</td><td>5.959195311002349</td><td>6.2114328735395326</td><td>1.3778839</td><td>17.649157</td><td>160.99344875156936</td></tr>\n",
       "<tr><td>4154261148041785088</td><td>276.3737880935989</td><td>-10.612384486495172</td><td>1.9032007036429812</td><td>-1.306126537166243</td><td>6.323185810211738</td><td>1.1957417</td><td>20.546534</td><td>158.14812817694408</td></tr>\n",
       "<tr><td>4154247434194911232</td><td>276.07794971756005</td><td>-10.718110479507244</td><td>6.3204961286416825</td><td>-4.338716166043315</td><td>5.868170278934157</td><td>1.9402628</td><td>14.292905</td><td>170.41086956693275</td></tr>\n",
       "<tr><td>4317902425685081984</td><td>293.4203292310312</td><td>13.711808659763413</td><td>-0.957691646872086</td><td>-5.128996997277348</td><td>5.696577211628671</td><td>1.9452553</td><td>20.268414</td><td>175.5440087705046</td></tr>\n",
       "<tr><td>4317928917053929216</td><td>293.4215144953913</td><td>14.048555654874148</td><td>-1.1528467756308907</td><td>-8.32371693821019</td><td>6.062215949853539</td><td>1.7681427</td><td>20.62104</td><td>164.9561824045809</td></tr>\n",
       "<tr><td>5822339687452346112</td><td>237.86294837652682</td><td>-66.64042868721491</td><td>-30.618683510364594</td><td>18.815069884974367</td><td>15.071021002915675</td><td>1.1967373</td><td>20.602522</td><td>66.35250523548058</td></tr>\n",
       "<tr><td>4317905518064386304</td><td>293.7442738551426</td><td>13.748593267711293</td><td>-4.572728219172291</td><td>-7.782872644878806</td><td>7.922082728774197</td><td>1.6529102</td><td>20.425602</td><td>126.22943160740414</td></tr>\n",
       "<tr><td>4317933040225901312</td><td>293.8860384175224</td><td>13.946591909420563</td><td>-8.761265008027177</td><td>-4.153067166409391</td><td>6.998206121653696</td><td>1.3160477</td><td>20.552246</td><td>142.89376200364003</td></tr>\n",
       "<tr><td>5958930127215232384</td><td>262.9261036790077</td><td>-42.29621709112267</td><td>-3.319368945048452</td><td>-0.04792624484971651</td><td>5.965966925012372</td><td>1.8368359</td><td>19.306837</td><td>167.6174227194406</td></tr>\n",
       "<tr><td>...</td><td>...</td><td>...</td><td>...</td><td>...</td><td>...</td><td>...</td><td>...</td><td>...</td></tr>\n",
       "<tr><td>4036591482401375232</td><td>269.05828952613297</td><td>-38.513957059228744</td><td>-1.522059746033339</td><td>-0.5704515150882452</td><td>8.072913296970817</td><td>1.2238464</td><td>19.629824</td><td>123.87101944662628</td></tr>\n",
       "<tr><td>4036604740930974208</td><td>269.3615679947252</td><td>-38.397575941992635</td><td>17.024999115167233</td><td>14.069564736527255</td><td>5.854231697978058</td><td>1.0731716</td><td>19.300568</td><td>170.81660781300837</td></tr>\n",
       "<tr><td>5852451909380245248</td><td>213.5718350982425</td><td>-66.06584021351338</td><td>-6.097148210992003</td><td>7.553428725835455</td><td>5.557722524990765</td><td>1.4651852</td><td>18.656164</td><td>179.9298175652736</td></tr>\n",
       "<tr><td>3131129363214038528</td><td>97.01477687006852</td><td>3.6806829726183437</td><td>-0.07643115798988684</td><td>3.6782203737969192</td><td>6.021253142168856</td><td>1.911314</td><td>20.926853</td><td>166.07838541061568</td></tr>\n",
       "<tr><td>1834563295895304448</td><td>299.9727163807361</td><td>25.313138791438774</td><td>-7.881583944396789</td><td>28.979192406933105</td><td>6.109606502271052</td><td>1.0776386</td><td>20.828978</td><td>163.67666225775454</td></tr>\n",
       "<tr><td>5852433355119989376</td><td>213.62214930827537</td><td>-66.2637078874646</td><td>41.79720559255125</td><td>-5.424951353045238</td><td>8.768721483954877</td><td>1.0213118</td><td>11.044257</td><td>114.04171085030049</td></tr>\n",
       "<tr><td>5852445243534068608</td><td>214.30802658812834</td><td>-65.91220459988385</td><td>-7.518628180060461</td><td>-6.41665627867049</td><td>5.180362058623148</td><td>1.9083633</td><td>20.724403</td><td>193.03670065597365</td></tr>\n",
       "<tr><td>1834541408715823872</td><td>299.541216101525</td><td>25.07919461700464</td><td>-7.312961656550655</td><td>-6.6546024262283066</td><td>6.0453171081802335</td><td>0.8868332</td><td>20.977617</td><td>165.4172944289139</td></tr>\n",
       "<tr><td>1834552399539400320</td><td>299.98285950301545</td><td>25.15902963097337</td><td>-18.989148681919602</td><td>11.221162106774022</td><td>12.031322997056394</td><td>1.974432</td><td>20.04569</td><td>83.11637882589154</td></tr>\n",
       "<tr><td>1834563261515204096</td><td>299.96600918122857</td><td>25.30399655502393</td><td>-4.558083708786537</td><td>-2.2879443957675205</td><td>6.881114473830019</td><td>1.4725933</td><td>20.892982</td><td>145.32529633145333</td></tr>\n",
       "</table></div>"
      ],
      "text/plain": [
       "<Table length=10000>\n",
       "     source_id              ra         ... phot_g_mean_mag        dist       \n",
       "                           deg         ...       mag                         \n",
       "       int64             float64       ...     float32          float64      \n",
       "------------------- ------------------ ... --------------- ------------------\n",
       "5958932738587053824 263.43993702712055 ...       17.649157 160.99344875156936\n",
       "4154261148041785088  276.3737880935989 ...       20.546534 158.14812817694408\n",
       "4154247434194911232 276.07794971756005 ...       14.292905 170.41086956693275\n",
       "4317902425685081984  293.4203292310312 ...       20.268414  175.5440087705046\n",
       "4317928917053929216  293.4215144953913 ...        20.62104  164.9561824045809\n",
       "5822339687452346112 237.86294837652682 ...       20.602522  66.35250523548058\n",
       "4317905518064386304  293.7442738551426 ...       20.425602 126.22943160740414\n",
       "4317933040225901312  293.8860384175224 ...       20.552246 142.89376200364003\n",
       "5958930127215232384  262.9261036790077 ...       19.306837  167.6174227194406\n",
       "                ...                ... ...             ...                ...\n",
       "4036591482401375232 269.05828952613297 ...       19.629824 123.87101944662628\n",
       "4036604740930974208  269.3615679947252 ...       19.300568 170.81660781300837\n",
       "5852451909380245248  213.5718350982425 ...       18.656164  179.9298175652736\n",
       "3131129363214038528  97.01477687006852 ...       20.926853 166.07838541061568\n",
       "1834563295895304448  299.9727163807361 ...       20.828978 163.67666225775454\n",
       "5852433355119989376 213.62214930827537 ...       11.044257 114.04171085030049\n",
       "5852445243534068608 214.30802658812834 ...       20.724403 193.03670065597365\n",
       "1834541408715823872   299.541216101525 ...       20.977617  165.4172944289139\n",
       "1834552399539400320 299.98285950301545 ...        20.04569  83.11637882589154\n",
       "1834563261515204096 299.96600918122857 ...       20.892982 145.32529633145333"
      ]
     },
     "execution_count": 21,
     "metadata": {},
     "output_type": "execute_result"
    }
   ],
   "source": [
    "job3 = send_radial_new_gaia_query(query_size=10000,distance=200)  # Query 10000 alhough default is 500 stars\n",
    "results = job3.get_results()\n",
    "results"
   ]
  },
  {
   "cell_type": "code",
   "execution_count": 22,
   "metadata": {},
   "outputs": [
    {
     "name": "stdout",
     "output_type": "stream",
     "text": [
      "total 4\n",
      "drwxr-xr-x 2 jupyter-chandru jupyter-chandru 4096 Nov 18 01:35 'Untitled Folder'\n"
     ]
    }
   ],
   "source": [
    "!ls -l data_folder"
   ]
  },
  {
   "cell_type": "code",
   "execution_count": 24,
   "metadata": {
    "colab": {
     "base_uri": "https://localhost:8080/"
    },
    "id": "xXKPdqu14R3K",
    "outputId": "fe46eb37-62b8-4fca-c907-e90e8b3c2104"
   },
   "outputs": [
    {
     "name": "stdout",
     "output_type": "stream",
     "text": [
      "INFO: Getting the DR2 results on nearby (d < 200 pc) stars stored in data_folder/gaia-hrd-dr2-200pc_10000_stars.csv\n",
      " [unknown]\n",
      "querying and saving NEW results to data_folder/gaia-hrd-dr2-200pc_10000_stars.csv\n",
      "\n",
      "[1.9925079 1.7794914 1.368536  ... 1.9341764 1.6941051 0.7904215]  phot_g_mean_mag  \n",
      "------------------\n",
      "14.642144690842095\n",
      "15.510788030547815\n",
      "11.438887276262687\n",
      "14.421384233161742\n",
      "14.483090737794665\n",
      " 5.308360741554786\n",
      "  13.7461432032621\n",
      " 6.047811728421976\n",
      "12.300762372125057\n",
      "14.101532426111547\n",
      "               ...\n",
      " 7.426003339027488\n",
      " 14.32733496117924\n",
      " 5.808234280543951\n",
      "12.174188503696822\n",
      " 13.70394057821946\n",
      "2.6576469310879993\n",
      " 14.06505540940418\n",
      " 5.766537558063689\n",
      " 8.413690188451241\n",
      "14.496789706612113\n",
      " 4.545496367672133\n",
      "Length = 10000 rows [141.68845407 124.61387294 196.12987193 ... 186.71360417 186.32591331\n",
      " 184.13643321]\n"
     ]
    }
   ],
   "source": [
    "# Here I am defining a job for the same asynchronous within a try-except block\n",
    "# This will first look for a previously stored file (try-block)\n",
    "# if it does not exist it will execute the query (except-block)\n",
    "# It will also compute the abs magnitude using the magnitude equation\n",
    "\n",
    "import math\n",
    "import numpy as np\n",
    "from astropy import log\n",
    "\n",
    "num_stars = 10000\n",
    "small_datafile_name = data_folder+\"/gaia-hrd-dr2-200pc_%d_stars.csv\" % (num_stars)\n",
    "try:\n",
    "    log.info(f\"Getting the DR2 results on nearby (d < 200 pc) stars stored in {small_datafile_name}\\n\")\n",
    "    gaiarec = np.recfromcsv(small_datafile_name)\n",
    "#    bp_rp, mg, dist = gaiarec.bp_rp, gaiarec.mg, gaiarec.dist\n",
    "    bp_rp, photmg, dist, plx = gaiarec.bp_rp, gaiarec.phot_g_mean_mag, gaiarec.dist, gaiarec.parallax\n",
    "    print(f\"reading OLD results from previously existng {small_datafile_name}\\n\")\n",
    "    mg = photmg+5*np.log10(plx)-10\n",
    "    print(bp_rp, mg, dist)\n",
    "except OSError:\n",
    "    job4 = send_radial_new_gaia_query(dump_to_file=True, output_format=\"csv\",\n",
    "                                 output_file=small_datafile_name,\n",
    "                                 query_size=num_stars,distance=200)\n",
    "    results = job4.get_results()\n",
    "    bp_rp = results['bp_rp'].data\n",
    "    plx = results['parallax'].data\n",
    "#    mg = results['mg'].data\n",
    "    mg = results['phot_g_mean_mag']+5*np.log10(plx)-10\n",
    "    dist = results['dist'].data\n",
    "    print(f\"querying and saving NEW results to {small_datafile_name}\\n\")\n",
    "    print(bp_rp, mg, dist)\n"
   ]
  },
  {
   "cell_type": "code",
   "execution_count": 25,
   "metadata": {
    "colab": {
     "base_uri": "https://localhost:8080/",
     "height": 146
    },
    "id": "AOVYQcWBdT8B",
    "outputId": "266f3913-4884-4cb1-98b8-442b3ead0b6b"
   },
   "outputs": [
    {
     "name": "stdout",
     "output_type": "stream",
     "text": [
      "total 1492\n",
      "drwxr-xr-x 2 jupyter-chandru jupyter-chandru    4096 Nov 18 01:35 'Untitled Folder'\n",
      "-rw-r--r-- 1 jupyter-chandru jupyter-chandru 1520456 Nov 18 01:57  gaia-hrd-dr2-200pc_10000_stars.csv\n"
     ]
    },
    {
     "data": {
      "text/plain": [
       "'data_folder'"
      ]
     },
     "execution_count": 25,
     "metadata": {},
     "output_type": "execute_result"
    }
   ],
   "source": [
    "!ls -ltr {data_folder}\n",
    "data_folder        "
   ]
  },
  {
   "cell_type": "markdown",
   "metadata": {},
   "source": [
    "#### Find the CSV file and double-click it!\n",
    "#### Once you have done this - go back to the previous Cell and execute once more and see what happens!!\n",
    "#### Can you describe what happened ??\n",
    "#### Now let's plot it!!"
   ]
  },
  {
   "cell_type": "code",
   "execution_count": 26,
   "metadata": {},
   "outputs": [
    {
     "data": {
      "image/png": "[encoded data removed]",
      "text/plain": [
       "<Figure size 1500x1500 with 2 Axes>"
      ]
     },
     "metadata": {},
     "output_type": "display_data"
    }
   ],
   "source": [
    "# plot the H-R diagram for the 5000 stars within 200 pc from the Sun\n",
    "%matplotlib inline\n",
    "import matplotlib.pyplot as plt\n",
    "from matplotlib import colors\n",
    "plt.rc('text', usetex=False)\n",
    "\n",
    "fig, ax = plt.subplots(figsize=(15, 15))\n",
    "# only show 2D-histogram for bins with more than 10 stars in them\n",
    "h = ax.hist2d(bp_rp, mg, bins=300, cmin=10, norm=colors.PowerNorm(0.5), zorder=0.5)\n",
    "# fill the rest with scatter (set rasterized=True if saving as vector graphics)\n",
    "ax.scatter(bp_rp, mg, alpha=0.05, s=1, color='k', zorder=0)\n",
    "ax.invert_yaxis()\n",
    "cb = fig.colorbar(h[3], ax=ax, pad=0.02)\n",
    "ax.set_xlabel(r'$G_{BP} - G_{RP}$')\n",
    "ax.set_ylabel(r'$M_G$')\n",
    "cb.set_label(r\"$\\mathrm{Stellar~density}$\")\n",
    "plt.savefig(f\"{small_datafile_name}.png\", dpi=140)"
   ]
  },
  {
   "cell_type": "code",
   "execution_count": 27,
   "metadata": {
    "id": "t0IGCx7cROYQ"
   },
   "outputs": [],
   "source": [
    "# Here I am redefining the send_radial_gaia_query function with a lot more filters!\n",
    "def send_radial_gaia_query(query_size=500, distance=200, **kwargs):\n",
    "    \"\"\"\n",
    "    Sends an archive query for d < 200 pc, with additional filters taken from\n",
    "    Gaia Data Release 2: Observational Hertzsprung-Russell diagrams (Sect. 2.1)\n",
    "    Gaia Collaboration, Babusiaux et al. (2018)\n",
    "    (https://doi.org/10.1051/0004-6361/201832843)\n",
    "\n",
    "    NOTE: 10000000 is a maximum query size (~76 MB / column)\n",
    "\n",
    "    Additional keyword arguments are passed to TapPlus.launch_job_async method.\n",
    "    \"\"\"\n",
    "    #from astroquery.utils.tap.core import TapPlus\n",
    "    from astroquery.gaia import Gaia\n",
    "\n",
    "    #gaia = TapPlus(url=\"http://gea.esac.esa.int/tap-server/tap\")\n",
    "\n",
    "    job = Gaia.launch_job_async(\"select top {}\".format(query_size)+\n",
    "                \" lum_val, teff_val,\"\n",
    "                \" ra, dec, parallax,\"\n",
    "#                \" bp_rp, phot_g_mean_mag+5*log10(parallax)-10 as mg, 1000/parallax as dist\"\n",
    "                \" bp_rp, phot_g_mean_mag, 1000/parallax as dist\"\n",
    "         \" from gaiadr2.gaia_source\"\n",
    "         \" where parallax_over_error > 10\"\n",
    "         \" and visibility_periods_used > 8\"\n",
    "         \" and phot_g_mean_flux_over_error > 50\"\n",
    "         \" and phot_bp_mean_flux_over_error > 20\"\n",
    "         \" and phot_rp_mean_flux_over_error > 20\"\n",
    "#         \" and phot_bp_rp_excess_factor <\"\n",
    "#            \" 1.3+0.06*power(phot_bp_mean_mag-phot_rp_mean_mag,2)\"\n",
    "#         \" and phot_bp_rp_excess_factor >\"\n",
    "#            \" 1.0+0.015*power(phot_bp_mean_mag-phot_rp_mean_mag,2)\"\n",
    "#         \" and astrometric_chi2_al/(astrometric_n_good_obs_al-5)<\"\n",
    "#            \"1.44*greatest(1,exp(-0.4*(phot_g_mean_mag-19.5)))\"\n",
    "         +\" and 1000/parallax <= {}\".format(distance), **kwargs)\n",
    "\n",
    "    return job"
   ]
  },
  {
   "cell_type": "code",
   "execution_count": null,
   "metadata": {
    "colab": {
     "base_uri": "https://localhost:8080/"
    },
    "id": "ePC0KzdSPHcp",
    "outputId": "7f1fbd5e-382c-4142-e8bc-b4debebd8ee5"
   },
   "outputs": [
    {
     "name": "stdout",
     "output_type": "stream",
     "text": [
      "INFO: Getting the DR2 results on nearby (d < 200 pc) stars stored in data_folder/gaia-hrd-dr2-200pc_100000_stars.csv\n",
      " [unknown]\n"
     ]
    }
   ],
   "source": [
    "# Here I am defining a new job for the same asynchronous within the try-except block\n",
    "# This time for 5000 stars now including the filters\n",
    "# This will first look for a previoysly stored file (try-block)\n",
    "# if it does not exist it will execute the query (except-bloclk)\n",
    "import numpy as np\n",
    "from astropy import log\n",
    "\n",
    "# the query runs for a while, better ensure we have those data saved\n",
    "num_stars = 100000\n",
    "large_datafile_name = data_folder+\"/gaia-hrd-dr2-200pc_%d_stars.csv\" % (num_stars)\n",
    "try:\n",
    "    log.info(f\"Getting the DR2 results on nearby (d < 200 pc) stars stored in {large_datafile_name}\\n\")\n",
    "    gaiarec = np.recfromcsv(large_datafile_name)\n",
    "#    bp_rp, mg, dist = gaiarec.bp_rp, gaiarec.mg, gaiarec.dist\n",
    "#    print(f\"reading OLD results from previously existng {small_datafile_name}\\n\")\n",
    "#    print(bp_rp, mg, dist)    \n",
    "    bp_rp, photmg, dist, plx = gaiarec.bp_rp, gaiarec.phot_g_mean_mag, gaiarec.dist, gaiarec.parallax\n",
    "    print(f\"reading OLD results from previously existng {small_datafile_name}\\n\")\n",
    "    mg = photmg+5*np.log10(plx)-10\n",
    "    print(bp_rp, mg, dist)\n",
    "except OSError:\n",
    "    job = send_radial_gaia_query(dump_to_file=True, output_format=\"csv\"\n",
    "                                 ,output_file=large_datafile_name\n",
    "                                 ,query_size=num_stars\n",
    "    )\n",
    "    r = job.get_results()\n",
    "    plx = results['parallax'].data\n",
    "#    mg = results['mg'].data\n",
    "    mg = results['phot_g_mean_mag']+5*np.log10(plx)-10\n",
    "    dist = results['dist'].data\n",
    "    print(f\"querying and saving NEW results to {small_datafile_name}\\n\")\n",
    "    print(bp_rp, mg, dist)\n",
    "#    bp_rp = r['bp_rp'].data\n",
    "#    mg = r['mg'].data\n",
    "#    dist = r['dist'].data\n",
    "#    print(f\"querying and saving NEW results to {large_datafile_name}\\n\")\n",
    "#    print(bp_rp, mg, dist)"
   ]
  },
  {
   "cell_type": "code",
   "execution_count": null,
   "metadata": {
    "colab": {
     "base_uri": "https://localhost:8080/"
    },
    "id": "MwT8-pQ7-0V_",
    "outputId": "5092b0fa-efa1-4733-d8d1-c65a751e6655"
   },
   "outputs": [],
   "source": [
    "!ls -ltr {data_folder}"
   ]
  },
  {
   "cell_type": "code",
   "execution_count": null,
   "metadata": {
    "colab": {
     "base_uri": "https://localhost:8080/",
     "height": 881
    },
    "id": "A8lZaqHdvHsH",
    "outputId": "1217edf9-7a56-4843-9729-bbf121ae8af7"
   },
   "outputs": [],
   "source": [
    "# plot the H-R diagram for stars within 200 pc from the Sun\n",
    "%matplotlib inline\n",
    "import matplotlib.pyplot as plt\n",
    "from matplotlib import colors\n",
    "plt.rc('text', usetex=False)\n",
    "\n",
    "fig, ax = plt.subplots(figsize=(15, 15))\n",
    "# only show 2D-histogram for bins with more than 10 stars in them\n",
    "h = ax.hist2d(bp_rp, mg, bins=300, cmin=10, norm=colors.PowerNorm(0.5), zorder=0.5)\n",
    "# fill the rest with scatter (set rasterized=True if saving as vector graphics)\n",
    "ax.scatter(bp_rp, mg, alpha=0.05, s=1, color='k', zorder=0)\n",
    "ax.invert_yaxis()\n",
    "cb = fig.colorbar(h[3], ax=ax, pad=0.02)\n",
    "ax.set_xlabel(r'$G_{BP} - G_{RP}$')\n",
    "ax.set_ylabel(r'$M_G$')\n",
    "cb.set_label(r\"$\\mathrm{Stellar~density}$\")\n",
    "plt.savefig(f\"{large_datafile_name}.png\", dpi=140)"
   ]
  },
  {
   "cell_type": "code",
   "execution_count": null,
   "metadata": {
    "id": "1OyvCmsh2d4i"
   },
   "outputs": [],
   "source": []
  }
 ],
 "metadata": {
  "anaconda-cloud": {},
  "colab": {
   "collapsed_sections": [],
   "provenance": []
  },
  "kernelspec": {
   "display_name": "Python 3 (ipykernel)",
   "language": "python",
   "name": "python3"
  },
  "language_info": {
   "codemirror_mode": {
    "name": "ipython",
    "version": 3
   },
   "file_extension": ".py",
   "mimetype": "text/x-python",
   "name": "python",
   "nbconvert_exporter": "python",
   "pygments_lexer": "ipython3",
   "version": "3.9.13"
  }
 },
 "nbformat": 4,
 "nbformat_minor": 4
}
