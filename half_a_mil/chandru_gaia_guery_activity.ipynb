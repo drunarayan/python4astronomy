{
 "cells": [
  {
   "cell_type": "markdown",
   "metadata": {
    "id": "oTxWIvp594tS"
   },
   "source": [
    "## How to Query and Plot data from the Gaia Sattelite Database?</h1>\n",
    "\n",
    "Here are some useful links \n",
    "- [European Space Agency Gaia Mission - Writing Queries Turorial](https://www.cosmos.esa.int/web/gaia-users/archive/writing-queries)\n",
    "- [Gaia's Hertzsprung-Russel Diagram](https://sci.esa.int/web/gaia/-/60198-gaia-hertzsprung-russell-diagram)\n",
    "\n",
    "In the examples below we will query ***half-a-million stars within 200 Parsecs of the sun and plot it in a Hertzsprung-Russel Diagram (HRD)***\n"
   ]
  },
  {
   "cell_type": "code",
   "execution_count": null,
   "metadata": {},
   "outputs": [],
   "source": [
    "#!echo $PATH  # for debugging as needed"
   ]
  },
  {
   "cell_type": "code",
   "execution_count": null,
   "metadata": {
    "colab": {
     "base_uri": "https://localhost:8080/"
    },
    "id": "nkl-ZgmDcx_a",
    "outputId": "c2a8f157-ba4d-492e-f52b-a6c293a16e89"
   },
   "outputs": [],
   "source": [
    "# Data Folder\n",
    "data_folder=\"data_folder\"\n",
    "!ls -l {data_folder}"
   ]
  },
  {
   "cell_type": "code",
   "execution_count": null,
   "metadata": {},
   "outputs": [],
   "source": [
    "#!pip list  # for debugging as needed"
   ]
  },
  {
   "cell_type": "code",
   "execution_count": null,
   "metadata": {},
   "outputs": [],
   "source": [
    "#EXECUTE THIS CELL THEN RESTART KERNEL\n",
    "#!pip install astroquery  # for debugging as needed"
   ]
  },
  {
   "cell_type": "code",
   "execution_count": null,
   "metadata": {
    "colab": {
     "base_uri": "https://localhost:8080/"
    },
    "id": "vVONSbyihGsx",
    "outputId": "0d3e3d8d-a624-4771-e674-97455759ee7e"
   },
   "outputs": [],
   "source": [
    "# Create Access to the Gaia Database\n",
    "from astroquery.gaia import Gaia\n",
    "\n",
    "# Load Tables from the Gai Database\n",
    "tables = Gaia.load_tables(only_names=True)\n",
    "\n",
    "# Print the Table Names in the Gaia Database\n",
    "for table in tables:\n",
    "    print(table.name)"
   ]
  },
  {
   "cell_type": "code",
   "execution_count": null,
   "metadata": {
    "colab": {
     "base_uri": "https://localhost:8080/"
    },
    "id": "DNwWJAUkiFNY",
    "outputId": "d92888ab-40fd-46ca-8834-773df91e545c"
   },
   "outputs": [],
   "source": [
    "# Get Gaia Sources Table\n",
    "meta = Gaia.load_table('gaiadr2.gaia_source')\n",
    "print(meta)"
   ]
  },
  {
   "cell_type": "code",
   "execution_count": null,
   "metadata": {
    "colab": {
     "base_uri": "https://localhost:8080/"
    },
    "id": "QKbpkSZUiMJS",
    "outputId": "5eca4d0f-b955-40a4-d673-2118859505e4"
   },
   "outputs": [],
   "source": [
    "# Print all columns in the Gaia Source Table\n",
    "for column in meta.columns:\n",
    "    print(column.name)"
   ]
  },
  {
   "cell_type": "code",
   "execution_count": null,
   "metadata": {
    "colab": {
     "base_uri": "https://localhost:8080/"
    },
    "id": "xW2hZkfmikxP",
    "outputId": "d78fca0a-2cb0-4fe2-ae4f-d78e3eb060bb"
   },
   "outputs": [],
   "source": [
    "# Create a Synchronous (immediate submit) Query Job \n",
    "# for just the top 10 rows from the table retrieving\n",
    "# columns source_id, ra, dec, parallax (How did I know the column names ??)\n",
    "# note that it validates and gives you the units, description and bad rows!\n",
    "query1 = \"\"\"SELECT \n",
    "TOP 10\n",
    "source_id, ra, dec, parallax \n",
    "FROM gaiadr2.gaia_source\n",
    "\"\"\"\n",
    "job1 = Gaia.launch_job(query1)\n",
    "job1\n",
    "print(job1)"
   ]
  },
  {
   "cell_type": "code",
   "execution_count": null,
   "metadata": {
    "colab": {
     "base_uri": "https://localhost:8080/",
     "height": 314
    },
    "id": "V8YRnNqejK9E",
    "outputId": "d315c782-d1ab-4aed-a48e-f8d5e5fd5293"
   },
   "outputs": [],
   "source": [
    "# This statement below retrieves the result (note only 10 rows retrieved because that is what we asked for!)\n",
    "results = job1.get_results()\n",
    "results"
   ]
  },
  {
   "cell_type": "code",
   "execution_count": null,
   "metadata": {
    "colab": {
     "base_uri": "https://localhost:8080/"
    },
    "id": "Bw06T3Knjikq",
    "outputId": "33d46c98-a935-40fa-9e3a-c3afc0ae5f2b"
   },
   "outputs": [],
   "source": [
    "# Create a Asynchronous (scheduled submit) Query Job\n",
    "# for just the top 2000 rows from the table retrieving\n",
    "# columns source_id, ra, dec, pmra, pmdec, parallax, bp_rp \n",
    "# with a WHERE clause\n",
    "# note that it validates and gives you the units, description and bad rows!\n",
    "# What does Parallax < 1 mean in terms of distance ??  d = 1/p\n",
    "query2 = \"\"\"SELECT \n",
    "TOP 2000\n",
    "source_id, ra, dec, pmra, pmdec, parallax, bp_rp\n",
    "FROM gaiadr2.gaia_source\n",
    "WHERE parallax < 1 and parallax > 0\n",
    "\"\"\"\n",
    "job2 = Gaia.launch_job_async(query2)\n",
    "print(job2)"
   ]
  },
  {
   "cell_type": "code",
   "execution_count": null,
   "metadata": {
    "colab": {
     "base_uri": "https://localhost:8080/",
     "height": 528
    },
    "id": "0QN2pjdXjwBw",
    "outputId": "f449b1b9-2cac-40fc-cf4b-b993c3b9f35a"
   },
   "outputs": [],
   "source": [
    "# This statement below retrieves the result (note 2000 rows retrieved because that is what we asked for!)\n",
    "results = job2.get_results()\n",
    "results"
   ]
  },
  {
   "cell_type": "code",
   "execution_count": null,
   "metadata": {
    "id": "1yRdrqFso8uE"
   },
   "outputs": [],
   "source": [
    "# Here I am defining a python function to execute a asynchronous query which I can then pass to a Job\n",
    "def send_radial_new_gaia_query(query_size=500, distance=200, **kwargs):\n",
    "    \"\"\"\n",
    "    Sends an archive query for d < 200 pc, with additional filters taken from\n",
    "    Gaia Data Release 2: Observational Hertzsprung-Russell diagrams (Sect. 2.1)\n",
    "    Gaia Collaboration, Babusiaux et al. (2018)\n",
    "    (https://doi.org/10.1051/0004-6361/201832843)\n",
    "\n",
    "    NOTE: 10000000 is a maximum query size (~76 MB / column)\n",
    "\n",
    "    Additional keyword arguments are passed to Gaia.launch_job_async method.\n",
    "    \"\"\"\n",
    "    query3 = (\" SELECT\"\n",
    "            \" TOP {}\".format(query_size)+\n",
    "            \" source_id, ra, dec, pmra, pmdec, parallax, bp_rp, phot_g_mean_mag+5*log10(parallax)-10 as mg, 1000/parallax as dist\"\n",
    "            \" FROM gaiadr2.gaia_source\"\n",
    "            \" WHERE parallax > 0\"\n",
    "            \" AND bp_rp > -0.75\"\n",
    "            \" AND bp_rp < 2\"\n",
    "            \" AND 1000/parallax <= {}\".format(distance)\n",
    "    )\n",
    "    job = Gaia.launch_job_async(query3, **kwargs)\n",
    "    return job"
   ]
  },
  {
   "cell_type": "code",
   "execution_count": null,
   "metadata": {
    "colab": {
     "base_uri": "https://localhost:8080/",
     "height": 566
    },
    "id": "SB2sWiWQr6JA",
    "outputId": "fa44ee59-47e2-45a4-d340-6089a55721e3"
   },
   "outputs": [],
   "source": [
    "job3 = send_radial_new_gaia_query(query_size=10000,distance=200)  # Query 10000 alhough default is 500 stars\n",
    "results = job3.get_results()\n",
    "results"
   ]
  },
  {
   "cell_type": "code",
   "execution_count": null,
   "metadata": {},
   "outputs": [],
   "source": [
    "!ls -l data_folder"
   ]
  },
  {
   "cell_type": "code",
   "execution_count": null,
   "metadata": {
    "colab": {
     "base_uri": "https://localhost:8080/"
    },
    "id": "xXKPdqu14R3K",
    "outputId": "fe46eb37-62b8-4fca-c907-e90e8b3c2104"
   },
   "outputs": [],
   "source": [
    "# Here I am defining a job for the same asynchronous within a try-except block\n",
    "# This will first look for a previoysly stored file (try-block)\n",
    "# if it does not exist it will execute the query (except-bloclk)\n",
    "\n",
    "import numpy as np\n",
    "from astropy import log\n",
    "\n",
    "num_stars = 10000\n",
    "small_datafile_name = data_folder+\"/gaia-hrd-dr2-200pc_%d_stars.csv\" % (num_stars)\n",
    "try:\n",
    "    log.info(f\"Getting the DR2 results on nearby (d < 200 pc) stars stored in {small_datafile_name}\\n\")\n",
    "    gaiarec = np.recfromcsv(small_datafile_name)\n",
    "    bp_rp, mg, dist = gaiarec.bp_rp, gaiarec.mg, gaiarec.dist\n",
    "    print(f\"reading OLD results from previously existng {small_datafile_name}\\n\")\n",
    "    print(bp_rp, mg, dist)\n",
    "except OSError:\n",
    "    job4 = send_radial_new_gaia_query(dump_to_file=True, output_format=\"csv\",\n",
    "                                 output_file=small_datafile_name,\n",
    "                                 query_size=num_stars,distance=200)\n",
    "    results = job4.get_results()\n",
    "    bp_rp = results['bp_rp'].data\n",
    "    mg = results['mg'].data\n",
    "    dist = results['dist'].data\n",
    "    print(f\"querying and saving NEW results to {small_datafile_name}\\n\")\n",
    "    print(bp_rp, mg, dist)\n"
   ]
  },
  {
   "cell_type": "code",
   "execution_count": null,
   "metadata": {
    "colab": {
     "base_uri": "https://localhost:8080/",
     "height": 146
    },
    "id": "AOVYQcWBdT8B",
    "outputId": "266f3913-4884-4cb1-98b8-442b3ead0b6b"
   },
   "outputs": [],
   "source": [
    "!ls -ltr {data_folder}\n",
    "data_folder        "
   ]
  },
  {
   "cell_type": "markdown",
   "metadata": {},
   "source": [
    "#### Find the CSV file and double-click it!\n",
    "#### Once you have done this - go back to the previous Cell and execute once more and see what happens!!\n",
    "#### Can you describe what happened ??\n",
    "#### Now let's plot it!!"
   ]
  },
  {
   "cell_type": "code",
   "execution_count": null,
   "metadata": {},
   "outputs": [],
   "source": [
    "# plot the H-R diagram for the 5000 stars within 200 pc from the Sun\n",
    "%matplotlib inline\n",
    "import matplotlib.pyplot as plt\n",
    "from matplotlib import colors\n",
    "plt.rc('text', usetex=False)\n",
    "\n",
    "fig, ax = plt.subplots(figsize=(15, 15))\n",
    "# only show 2D-histogram for bins with more than 10 stars in them\n",
    "h = ax.hist2d(bp_rp, mg, bins=300, cmin=10, norm=colors.PowerNorm(0.5), zorder=0.5)\n",
    "# fill the rest with scatter (set rasterized=True if saving as vector graphics)\n",
    "ax.scatter(bp_rp, mg, alpha=0.05, s=1, color='k', zorder=0)\n",
    "ax.invert_yaxis()\n",
    "cb = fig.colorbar(h[3], ax=ax, pad=0.02)\n",
    "ax.set_xlabel(r'$G_{BP} - G_{RP}$')\n",
    "ax.set_ylabel(r'$M_G$')\n",
    "cb.set_label(r\"$\\mathrm{Stellar~density}$\")\n",
    "plt.savefig(f\"{small_datafile_name}.png\", dpi=140)"
   ]
  },
  {
   "cell_type": "code",
   "execution_count": null,
   "metadata": {
    "id": "t0IGCx7cROYQ"
   },
   "outputs": [],
   "source": [
    "# Here I am redefining the send_radial_gaia_query function with a lot more filters!\n",
    "def send_radial_gaia_query(query_size=500, distance=200, **kwargs):\n",
    "    \"\"\"\n",
    "    Sends an archive query for d < 200 pc, with additional filters taken from\n",
    "    Gaia Data Release 2: Observational Hertzsprung-Russell diagrams (Sect. 2.1)\n",
    "    Gaia Collaboration, Babusiaux et al. (2018)\n",
    "    (https://doi.org/10.1051/0004-6361/201832843)\n",
    "\n",
    "    NOTE: 10000000 is a maximum query size (~76 MB / column)\n",
    "\n",
    "    Additional keyword arguments are passed to TapPlus.launch_job_async method.\n",
    "    \"\"\"\n",
    "    #from astroquery.utils.tap.core import TapPlus\n",
    "    from astroquery.gaia import Gaia\n",
    "\n",
    "    #gaia = TapPlus(url=\"http://gea.esac.esa.int/tap-server/tap\")\n",
    "\n",
    "    job = Gaia.launch_job_async(\"select top {}\".format(query_size)+\n",
    "                \" lum_val, teff_val,\"\n",
    "                \" ra, dec, parallax,\"\n",
    "                \" bp_rp, phot_g_mean_mag+5*log10(parallax)-10 as mg, 1000/parallax as dist\"\n",
    "         \" from gaiadr2.gaia_source\"\n",
    "         \" where parallax_over_error > 10\"\n",
    "         \" and visibility_periods_used > 8\"\n",
    "         \" and phot_g_mean_flux_over_error > 50\"\n",
    "         \" and phot_bp_mean_flux_over_error > 20\"\n",
    "         \" and phot_rp_mean_flux_over_error > 20\"\n",
    "#         \" and phot_bp_rp_excess_factor <\"\n",
    "#            \" 1.3+0.06*power(phot_bp_mean_mag-phot_rp_mean_mag,2)\"\n",
    "#         \" and phot_bp_rp_excess_factor >\"\n",
    "#            \" 1.0+0.015*power(phot_bp_mean_mag-phot_rp_mean_mag,2)\"\n",
    "#         \" and astrometric_chi2_al/(astrometric_n_good_obs_al-5)<\"\n",
    "#            \"1.44*greatest(1,exp(-0.4*(phot_g_mean_mag-19.5)))\"\n",
    "         +\" and 1000/parallax <= {}\".format(distance), **kwargs)\n",
    "\n",
    "    return job"
   ]
  },
  {
   "cell_type": "code",
   "execution_count": null,
   "metadata": {
    "colab": {
     "base_uri": "https://localhost:8080/"
    },
    "id": "ePC0KzdSPHcp",
    "outputId": "7f1fbd5e-382c-4142-e8bc-b4debebd8ee5"
   },
   "outputs": [],
   "source": [
    "# Here I am defining a new job for the same asynchronous within the try-except block\n",
    "# This time for 5000 stars now including the filters\n",
    "# This will first look for a previoysly stored file (try-block)\n",
    "# if it does not exist it will execute the query (except-bloclk)\n",
    "import numpy as np\n",
    "from astropy import log\n",
    "\n",
    "# the query runs for a while, better ensure we have those data saved\n",
    "num_stars = 100000\n",
    "large_datafile_name = data_folder+\"/gaia-hrd-dr2-200pc_%d_stars.csv\" % (num_stars)\n",
    "try:\n",
    "    log.info(f\"Getting the DR2 results on nearby (d < 200 pc) stars stored in {large_datafile_name}\\n\")\n",
    "    gaiarec = np.recfromcsv(large_datafile_name)\n",
    "    bp_rp, mg, dist = gaiarec.bp_rp, gaiarec.mg, gaiarec.dist\n",
    "    print(f\"reading OLD results from previously existng {large_datafile_name}\\n\")\n",
    "    print(bp_rp, mg, dist)    \n",
    "except OSError:\n",
    "    job = send_radial_gaia_query(dump_to_file=True, output_format=\"csv\"\n",
    "                                 ,output_file=large_datafile_name\n",
    "                                 ,query_size=num_stars\n",
    "    )\n",
    "    r = job.get_results()\n",
    "    bp_rp = r['bp_rp'].data\n",
    "    mg = r['mg'].data\n",
    "    dist = r['dist'].data\n",
    "    print(f\"querying and saving NEW results to {large_datafile_name}\\n\")\n",
    "    print(bp_rp, mg, dist)"
   ]
  },
  {
   "cell_type": "code",
   "execution_count": null,
   "metadata": {
    "colab": {
     "base_uri": "https://localhost:8080/"
    },
    "id": "MwT8-pQ7-0V_",
    "outputId": "5092b0fa-efa1-4733-d8d1-c65a751e6655"
   },
   "outputs": [],
   "source": [
    "!ls -ltr {data_folder}"
   ]
  },
  {
   "cell_type": "code",
   "execution_count": null,
   "metadata": {
    "colab": {
     "base_uri": "https://localhost:8080/",
     "height": 881
    },
    "id": "A8lZaqHdvHsH",
    "outputId": "1217edf9-7a56-4843-9729-bbf121ae8af7"
   },
   "outputs": [],
   "source": [
    "# plot the H-R diagram for stars within 200 pc from the Sun\n",
    "%matplotlib inline\n",
    "import matplotlib.pyplot as plt\n",
    "from matplotlib import colors\n",
    "plt.rc('text', usetex=False)\n",
    "\n",
    "fig, ax = plt.subplots(figsize=(15, 15))\n",
    "# only show 2D-histogram for bins with more than 10 stars in them\n",
    "h = ax.hist2d(bp_rp, mg, bins=300, cmin=10, norm=colors.PowerNorm(0.5), zorder=0.5)\n",
    "# fill the rest with scatter (set rasterized=True if saving as vector graphics)\n",
    "ax.scatter(bp_rp, mg, alpha=0.05, s=1, color='k', zorder=0)\n",
    "ax.invert_yaxis()\n",
    "cb = fig.colorbar(h[3], ax=ax, pad=0.02)\n",
    "ax.set_xlabel(r'$G_{BP} - G_{RP}$')\n",
    "ax.set_ylabel(r'$M_G$')\n",
    "cb.set_label(r\"$\\mathrm{Stellar~density}$\")\n",
    "plt.savefig(f\"{large_datafile_name}.png\", dpi=140)"
   ]
  },
  {
   "cell_type": "code",
   "execution_count": null,
   "metadata": {
    "id": "1OyvCmsh2d4i"
   },
   "outputs": [],
   "source": []
  }
 ],
 "metadata": {
  "anaconda-cloud": {},
  "colab": {
   "collapsed_sections": [],
   "provenance": []
  },
  "kernelspec": {
   "display_name": "Python 3 (ipykernel)",
   "language": "python",
   "name": "python3"
  },
  "language_info": {
   "codemirror_mode": {
    "name": "ipython",
    "version": 3
   },
   "file_extension": ".py",
   "mimetype": "text/x-python",
   "name": "python",
   "nbconvert_exporter": "python",
   "pygments_lexer": "ipython3",
   "version": "3.9.13"
  }
 },
 "nbformat": 4,
 "nbformat_minor": 4
}
