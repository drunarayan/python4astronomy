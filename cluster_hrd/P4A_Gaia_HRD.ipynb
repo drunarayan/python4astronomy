{
 "cells": [
  {
   "cell_type": "markdown",
   "id": "GB-L9yudKvpB",
   "metadata": {
    "id": "GB-L9yudKvpB"
   },
   "source": [
    "<h1>Gaia Star Cluster Hertzsprung Russel Diagrams (HRD)</h1>\n",
    "\n",
    "Here are some useful links \n",
    "- [European Space Agency Gaia Mission - Writing Queries Turorial](https://www.cosmos.esa.int/web/gaia-users/archive/writing-queries)\n",
    "- [Gaia's Hertzsprung-Russel Diagram](https://sci.esa.int/web/gaia/-/60198-gaia-hertzsprung-russell-diagram)\n",
    "\n",
    "**In the examples below we will query open clusters in the Milky way and plot it in a Hertzsprung-Russel Diagram (HRD). We will also attempt to identify Zero-order Main Sequence (ZAMS) entry points and Main Sequence Cutoff for these star clusters**\n",
    "\n",
    "*adapted for the Python for Astronomy Course by Chandru Narayan Nov 1, 2022 using the material develped by Dr. Priya Hasan*\n"
   ]
  },
  {
   "cell_type": "code",
   "execution_count": null,
   "id": "028786c9-c49a-49e6-bb7e-f0d1e3eddb53",
   "metadata": {},
   "outputs": [],
   "source": [
    "#!echo $PATH  Remove leading '#' for debugging as needed"
   ]
  },
  {
   "cell_type": "code",
   "execution_count": null,
   "id": "cb50ba86-d2bc-4e9d-ba7d-b022a48c4b2c",
   "metadata": {
    "colab": {
     "base_uri": "https://localhost:8080/"
    },
    "id": "nkl-ZgmDcx_a",
    "outputId": "c2a8f157-ba4d-492e-f52b-a6c293a16e89",
    "tags": []
   },
   "outputs": [],
   "source": [
    "# Data Folder\n",
    "data_folder=\"data_folder\"\n",
    "!ls -l {data_folder}"
   ]
  },
  {
   "cell_type": "code",
   "execution_count": null,
   "id": "e7130547-a7d3-43b2-91a7-85adf68d9d69",
   "metadata": {},
   "outputs": [],
   "source": [
    "#!pip list  # for debugging as needed"
   ]
  },
  {
   "cell_type": "code",
   "execution_count": null,
   "id": "35d24e86-a665-4f4b-ac4b-d0956d2f5b78",
   "metadata": {},
   "outputs": [],
   "source": [
    "#EXECUTE THIS CELL THEN RESTART KERNEL\n",
    "#!pip install astroquery  # for debugging as needed\n",
    "#!pip install scikit-learn # for debugging or as needed"
   ]
  },
  {
   "cell_type": "code",
   "execution_count": null,
   "id": "207b9fe0-3de9-4f5e-bedf-6adbcb67182f",
   "metadata": {
    "colab": {
     "base_uri": "https://localhost:8080/"
    },
    "id": "vVONSbyihGsx",
    "outputId": "0d3e3d8d-a624-4771-e674-97455759ee7e",
    "tags": []
   },
   "outputs": [],
   "source": [
    "# Create Access to the Gaia Database\n",
    "from astroquery.gaia import Gaia\n",
    "\n",
    "# Load Tables from the Gai Database\n",
    "tables = Gaia.load_tables(only_names=True)\n",
    "\n",
    "# Print the Table Names in the Gaia Database\n",
    "for table in tables:\n",
    "    print(table.name)"
   ]
  },
  {
   "cell_type": "code",
   "execution_count": null,
   "id": "079d0744-6f02-4042-b61a-ee96ff5eb421",
   "metadata": {
    "colab": {
     "base_uri": "https://localhost:8080/"
    },
    "id": "DNwWJAUkiFNY",
    "outputId": "d92888ab-40fd-46ca-8834-773df91e545c"
   },
   "outputs": [],
   "source": [
    "# Get Gaia Sources Table\n",
    "meta = Gaia.load_table('gaiadr3.gaia_source')\n",
    "print(meta)"
   ]
  },
  {
   "cell_type": "code",
   "execution_count": null,
   "id": "01c188fb-6934-4774-b659-901e6db301be",
   "metadata": {
    "colab": {
     "base_uri": "https://localhost:8080/"
    },
    "id": "QKbpkSZUiMJS",
    "outputId": "5eca4d0f-b955-40a4-d673-2118859505e4"
   },
   "outputs": [],
   "source": [
    "# Print all columns in the Gaia Source Table\n",
    "for column in meta.columns:\n",
    "    print(column.name)"
   ]
  },
  {
   "cell_type": "markdown",
   "id": "af7ce3a6-efd0-4acf-b50e-451fdb97abe0",
   "metadata": {
    "cellView": "form",
    "id": "2mQha3_bd2y9",
    "tags": []
   },
   "source": [
    "## Open Star Cluster M45 in Orion has younger stars\n",
    "![m45](m45.png)\n",
    "## Globular Star Cluster M92 in Hercules is VERY OLD!\n",
    "![m92](m92.png)\n",
    "## The Gaia Sattelite\n",
    "Gaia is a space observatory of the European Space Agency, launched in 2013 and expected to operate until 2025. The spacecraft is designed for astrometry: measuring the positions, distances and motions of stars with unprecedented precision.\n",
    "Gaia  provides astrometry, photometry, and spectroscopy of more than 1000 million stars in the Milky Way. Also data for significant samples of extragalactic and Solar system objects is made available. The Gaia Archive contains deduced positions, parallaxes, proper motions, radial velocities, and brightnesses. Complementary information on multiplicity, photometric variability, and astrophysical parameters is provided for a large fraction of sources.\n",
    "![gaia](gaia.png)\n"
   ]
  },
  {
   "cell_type": "markdown",
   "id": "0d330970",
   "metadata": {
    "id": "0d330970"
   },
   "source": [
    "## Gaia Data\n",
    "\n",
    "Gaia Data primarily contains of - Right Ascension (RA), Declination (Dec), Parallax, Radial Velocity (RV), Proper Motion in terms of Right Ascension (pmra), and Proper Motion in terms of Declination (pmdec).\n",
    "\n",
    "1. ✅ **Right Ascension and Declination**- They are the longitude and latitude to position an object in the celestial frame of reference, or they are the celestial coordinates. They are calculated as positions in the plane of the sky. Read more about them at [https://skyandtelescope.org/astronomy-resources/right-ascension-declination-celestial-coordinates/](https://skyandtelescope.org/astronomy-resources/right-ascension-declination-celestial-coordinates/).\n",
    "[(Image Source)](https://en.wikipedia.org/wiki/Right_ascension)\n",
    "\n",
    "<img src=\"https://upload.wikimedia.org/wikipedia/commons/6/66/Ra_and_dec_demo_animation_small.gif\" alt=\"RA Dec\" style=\"width: 50%; float:center;\"/> \n",
    "\n",
    "2. ✅ **Parallax**- The effect which causes an apparent shift in the position of an object with request to a background when observed from two different points (separated by a distance called basis) It is calculated as the semi-angle of inclination of these two different line of sights from the observation points to the object. Image source and more at: [https://en.wikipedia.org/wiki/Parallax](https://en.wikipedia.org/wiki/Parallax) \n",
    "\n",
    "<img src=\"https://upload.wikimedia.org/wikipedia/commons/thumb/e/e3/Stellarparallax2.svg/340px-Stellarparallax2.svg.png\" alt=\"Parallax\" style=\"width: 50%; float:center;\"/>\n",
    "\n",
    "3. ✅ **Radial Velocity**- It is the velocity of an object in a direction away from or towards the Earth (observation point). In a more general sense, it is the velocity between the object and the observation point in the direction of the radius connecting the point and the object\n",
    "\n",
    "4. ✅ **Proper Motions (RA and Dec)**- Proper Motion is the rate of angular drift in the plane of the sky or in a transverse direction. In other words, pmra and pmdec are the rates of change of the RA and Dec of an object in the sky respectively. Their resultant is also called the transverse velocity or total proper motion. The space velocity of an object is the resultant of the transverse velocity and the radial velocity\n",
    "\n",
    "### Gaia Data Releases\n",
    "\n",
    "Gaia data is made publicly available through periodic data releases (DRs). Each Data Release has a richer data than the previous data release as Gaia covers the stars more times and adds new stars and objects as well. We had two full releases (DR1 and DR2)  until now, and an Early Data Release 3 (EDR3) is the latest update. We will be working with the most recent full release, DR2. You can also try working with EDR3 with almost negligible changes to the queries we use here.\n",
    "\n",
    "\n",
    "### Gaia Archive\n",
    "\n",
    "Gaia Archive is a remote server which hosts the publicly available Dsta Releases of Gaia in the form of a database. It also provides us an interface to query the data and manipulate it according to our needs on the server itself, without us having the need to download the data first on our local computers. Using the Gaia archive site, we can get data on the positions, brightnesses, distances, and more for millions of stars and do various kinds of science and data visualization from them.\n",
    "\n",
    "**The Gaia archive can be found here: https://gea.esac.esa.int/archive/**\n",
    "\n"
   ]
  },
  {
   "cell_type": "markdown",
   "id": "cee067ea",
   "metadata": {
    "id": "cee067ea"
   },
   "source": [
    "## Basic Search for Manual Gaia Query and Download\n",
    "Task: We will use the Basic Search in Gaia Archive to get data of a cluster M45 (Pleiades,  Seven Sisters) in 20 arcminutes radius circle around  it.  We will then read this data in Python and plot the required data.\n",
    "Steps for Basic Search:\n",
    "\n",
    "Make sure you're on the Basic query page\n",
    "In the \"Name\" field, type in \"Messier 45\". It should resolve the name. \n",
    "To the right, put a \"20\" and then change the unit from \"arc sec\" to \"arc min\". This will tell the archive to search in a radius of 20 arcminutes around M45. There are 60 arcseconds in an arcminute, and 60 arcminutes in a degree.\n",
    "At the bottom, change \"Max. number of results\" to 5000. \n",
    "Make sure that the \"Search In\" drop down says \"gaiaedr3.gaia_source\". This specifies the data we want to use is frrom source of Gaia DR3\n",
    "Click \"Submit Query\"\n",
    "You'll see a table pop up with the first 20 results from the query. At the bottom, change \"VOTable\" to \"csv\" and click \"Download results\". This will download a csv to your computer with the queried data in it."
   ]
  },
  {
   "cell_type": "markdown",
   "id": "7ebcbfa2-b3ca-478d-ac18-05ceae64d271",
   "metadata": {},
   "source": [
    "## Review Magnitude and Distance/Parallax Formulas\n",
    "### The quantity $\\boxed{m_{app} - m_{abs}} $ OR $ \\boxed {m - M} $ is known as the distance modulus\n",
    "### Note that this quantity appears in the equations below to calculate magnitudes and distance\n",
    "## 1. How to calculate Magnitudes when distance (in pc) is known\n",
    "### $$ \\boxed{m_{app} - m_{abs} =  5 \\times log_{10}(distance) - 5} $$\n",
    "## 2. How to calculate Magnitudes when parallax (in arc-sec) is known\n",
    "### $$ \\boxed{m_{app} - m_{abs} =  5 \\times log_{10}(1/parallax) - 5} $$\n",
    "## 3. How to calculate Distance (in pc) when apparent and absolute magnitudes are known\n",
    "### $$ \\boxed{distance = 10^{\\frac{m_{abs}-m_{app}+5}{5}}} $$"
   ]
  },
  {
   "cell_type": "code",
   "execution_count": null,
   "id": "8872ba1c",
   "metadata": {
    "id": "8872ba1c"
   },
   "outputs": [],
   "source": [
    "%%html\n",
    "<div style=\"text-align:center;\">\n",
    "<iframe src=\"https://gea.esac.esa.int/archive/\" width=\"900\" height=\"540\"></iframe>\n",
    "</div>"
   ]
  },
  {
   "cell_type": "code",
   "execution_count": null,
   "id": "d6451477-4ee4-4659-b0c3-848b9e64adb5",
   "metadata": {
    "id": "9eb8c415"
   },
   "outputs": [],
   "source": [
    "# For use with Manual Search\n",
    "\n",
    "# Drag and drop the downloaded csv file in to the data_folder and rename to m45.csv\n",
    "\n",
    "import pandas as pd\n",
    "\n",
    "target = 'm45'\n",
    "data_file = f'{target}.csv'\n",
    "file_path = f'{data_folder}/{data_file}'\n",
    "\n",
    "# Now we can read the csv file into a pandas dataframe. \n",
    "m45 = pd.read_csv(file_path) # data_file to be found in data_folder\n",
    "\n",
    "# Checking the top few rows of the data and the number of rows and columns\n",
    "print(\"(Rows, Columns) =\", m45.shape)\n",
    "m45.head()"
   ]
  },
  {
   "cell_type": "markdown",
   "id": "9591627f-3caf-4c02-9b32-7878177912ea",
   "metadata": {},
   "source": [
    "## Let's practice by calculating the Absolute Magnitude of the stars in the M45 csv file we queried earlier and updating the file with it as a new column. We will perform the following steps:\n",
    "### 1. If M45 csv file does exist, we will read it in for future steps\n",
    "### 2. If it does not exist, we will perform a simple API query to create the M45 csv file\n",
    "### 3. Calculate the Absolute Magnitude (see cells above for formula) and add it as a column\n",
    "### 3. Calculate the Distance using Parallax (see cells above for formula) and add it as a column\n",
    "### 4. Write out the results as a new csv file\n",
    " "
   ]
  },
  {
   "cell_type": "code",
   "execution_count": null,
   "id": "d169efe9-4347-466e-b329-a80e7a492aca",
   "metadata": {},
   "outputs": [],
   "source": [
    "# Create Access to the Gaia Database\n",
    "from astroquery.gaia import Gaia\n",
    "\n",
    "# Load Tables from the Gaia Database\n",
    "#tables = Gaia.load_tables(only_names=True)\n",
    "\n",
    "# Print the Table Names in the Gaia Database\n",
    "#for table in tables:\n",
    "#    print(table.name)\n",
    "\n",
    "# Get Gaia Sources Table\n",
    "meta = Gaia.load_table('gaiadr3.gaia_source')\n",
    "#print(meta)\n",
    "\n",
    "# Print all columns in the Gaia Source Table\n",
    "for column in meta.columns:\n",
    "    print(column.name)"
   ]
  },
  {
   "cell_type": "code",
   "execution_count": null,
   "id": "5de59de2-6ad7-4d53-8382-fb1882562f7c",
   "metadata": {
    "tags": []
   },
   "outputs": [],
   "source": [
    "# Define a Python Query \"job\" asynchronously within a try-except block\n",
    "# This will first look for a previously stored file (try-block)\n",
    "# if it does not exist it will execute the query (except-block)\n",
    "\n",
    "# designation \tsource_id \tra \tdec \tparallax \tpmra \tpmdec \tphot_g_mean_mag \tbp_rp\thas_mcmc_gspphot\n",
    "\n",
    "import numpy as np\n",
    "import pandas as pd\n",
    "from astropy import log\n",
    "\n",
    "updated_data_file = f'updated_{target}.csv'\n",
    "updated_file_path = f'{data_folder}/{updated_data_file}'\n",
    "query_size = 2000\n",
    "\n",
    "try:\n",
    "    log.info(f\"Getting the DR3 results stored in {updated_file_path}\\n\")\n",
    "    gc = np.recfromcsv(updated_file_path)\n",
    "    desg, sid, ra, dec, plx, pmra, pmdec, amg, bp_rp, dist = \\\n",
    "    gc.designation, gc.source_id, gc.ra, gc.dec, \\\n",
    "    gc.parallax, gc.pmra, gc.pmdec, \\\n",
    "    gc.amg+5*np.log10(gc.parallax)-10, \\\n",
    "    gc.bp_rp, 1000/gc.parallax\n",
    "    \n",
    "    print(f\"reading results from previously existng {updated_data_file}\\n\")\n",
    "    #print(ra, dec, plx, amg, dist)\n",
    "    df = pd.DataFrame({\"desg\": desg, \"ra\": ra, \"dec\": dec, \"plx\": plx, \"pmra\": pmra, \"pmdec\": pmdec, \"amg\": amg, \"bp_rp\": bp_rp, \"dist\": dist})\n",
    "    print(df)\n",
    "    \n",
    "\n",
    "except OSError:\n",
    "    query = (\" SELECT\"\n",
    "            \" TOP {}\".format(query_size)+\n",
    "            \" designation, source_id, ra, dec, parallax, pmra, pmdec,  bp_rp, \"\n",
    "            \"phot_g_mean_mag+5*log10(parallax)-10 as amg, 1000/parallax as dist\"\n",
    "            \" FROM gaiadr3.gaia_source\"\n",
    "            \" WHERE parallax > 0\"\n",
    "            \" AND bp_rp > -0.75\"\n",
    "            \" AND bp_rp < 2\")\n",
    "    \n",
    "    job = Gaia.launch_job_async(query, dump_to_file=True, output_format=\"csv\",\n",
    "                                 output_file=updated_file_path)\n",
    "    job\n",
    "    print(job)\n"
   ]
  },
  {
   "cell_type": "markdown",
   "id": "3e527559-734e-4ee5-9dcd-a91237548cd7",
   "metadata": {},
   "source": [
    "## Setup for API Gaia Target Cone Search and Download"
   ]
  },
  {
   "cell_type": "code",
   "execution_count": null,
   "id": "7lEfeKDkpwmc",
   "metadata": {
    "id": "7lEfeKDkpwmc"
   },
   "outputs": [],
   "source": [
    "# Parameters for API Query & HRD (20 minutes radius around M45 center) - Change for each query!\n",
    "target = \"M45\" # target to query\n",
    "object_radius = 20 # in arc minutes\n",
    "object_radius_deg = object_radius/60\n",
    "num_stars = 5000 #maximum number of stars to retrieve"
   ]
  },
  {
   "cell_type": "code",
   "execution_count": null,
   "id": "423231a6",
   "metadata": {
    "id": "423231a6"
   },
   "outputs": [],
   "source": [
    "import numpy as np\n",
    "import pandas as pd\n",
    "import math\n",
    "from sklearn.datasets import make_blobs\n",
    "from sklearn.neighbors import NearestNeighbors\n",
    "from sklearn.cluster import DBSCAN\n",
    "from matplotlib import pyplot as plt\n",
    "import seaborn as sns\n",
    "sns.set()"
   ]
  },
  {
   "cell_type": "code",
   "execution_count": null,
   "id": "b7bc6d0a",
   "metadata": {
    "id": "b7bc6d0a"
   },
   "outputs": [],
   "source": [
    "# import astroquery and astropy packages\n",
    "import astropy.units as u\n",
    "import astropy.coordinates as coord\n",
    "from astroquery.gaia import Gaia\n",
    "from astroquery.vizier import Vizier\n"
   ]
  },
  {
   "cell_type": "code",
   "execution_count": null,
   "id": "b3e231e4",
   "metadata": {
    "id": "b3e231e4"
   },
   "outputs": [],
   "source": [
    "## making a GAIA cone_search\n",
    "\n",
    "coordinate = coord.SkyCoord.from_name(target)\n",
    "print(coordinate)\n",
    "radius = u.Quantity(1, u.deg) * object_radius_deg\n",
    "print(radius)\n",
    "Gaia.ROW_LIMIT = -1\n",
    "j = Gaia.cone_search_async(coordinate, radius, table_name=\"gaiaedr3.gaia_source\")\n",
    "r = j.get_results()\n",
    "print(type(r))"
   ]
  },
  {
   "cell_type": "code",
   "execution_count": null,
   "id": "fc1f6848",
   "metadata": {
    "id": "fc1f6848"
   },
   "outputs": [],
   "source": [
    "r"
   ]
  },
  {
   "cell_type": "code",
   "execution_count": null,
   "id": "885e8497",
   "metadata": {
    "id": "885e8497"
   },
   "outputs": [],
   "source": [
    "## save the ASCII table as a pandas dataframe\n",
    "all_stars = r.to_pandas()\n",
    "all_stars\n",
    "type(all_stars)"
   ]
  },
  {
   "cell_type": "code",
   "execution_count": null,
   "id": "935eb1bd",
   "metadata": {
    "id": "935eb1bd"
   },
   "outputs": [],
   "source": [
    "## plotting the skyplot \n",
    "\n",
    "#fig, axs = plt.subplots(1)\n",
    "#plt.margins(0.005, tight=True)\n",
    "#axs.set_aspect('equal')\n",
    "sns.set(rc={'figure.figsize':(9,9)})\n",
    "skyplot = sns.scatterplot(x='ra', y='dec', data = all_stars)\n",
    "#skyplot = sns.scatterplot(x='ra', y='dec', data = members)\n",
    "skyplot.invert_xaxis()\n",
    "plt.title('Skyplot of ' + target + ' data')\n",
    "plt.show()"
   ]
  },
  {
   "cell_type": "code",
   "execution_count": null,
   "id": "b8d09a3d",
   "metadata": {
    "id": "b8d09a3d"
   },
   "outputs": [],
   "source": [
    "sns.scatterplot(x = 'bp_rp', y='phot_g_mean_mag',palette='RdYlGn',\n",
    "                data = all_stars)\n",
    "plt.ylabel('Apparent Magnitude (G band)')\n",
    "#plt.xlim(0,3)\n",
    "#sns.scatterplot(hr.b_v+0.5, hr.V+10)\n",
    "\n",
    "#plt.gca().invert_yaxis()"
   ]
  },
  {
   "cell_type": "code",
   "execution_count": null,
   "id": "1c4aeec3",
   "metadata": {
    "id": "1c4aeec3"
   },
   "outputs": [],
   "source": [
    "import seaborn as sns\n",
    "sns.set(rc={'figure.figsize':(8.7,6.27)})\n",
    "\n",
    "#sns.scatterplot(x='pmra', y='pmdec', data=features[features.labels > -1], hue='labels',legend='full')\n",
    "\n",
    "sns.scatterplot(x='pmra', y='pmdec', data=all_stars)"
   ]
  },
  {
   "cell_type": "code",
   "execution_count": null,
   "id": "eaf64f3e-f4af-4687-bd30-5f3f36a657e3",
   "metadata": {},
   "outputs": [],
   "source": [
    "# limit ranges to zoom in\n",
    "plt.xlim(-50,50)\n",
    "plt.ylim(-60,20)\n",
    "sns.scatterplot(x='pmra', y='pmdec', data=all_stars)"
   ]
  },
  {
   "cell_type": "code",
   "execution_count": null,
   "id": "403a3fe7",
   "metadata": {
    "id": "403a3fe7"
   },
   "outputs": [],
   "source": [
    "sns.scatterplot(x='pmra', y='parallax', data=all_stars)\n",
    "plt.xlim([-20, 30])"
   ]
  },
  {
   "cell_type": "code",
   "execution_count": null,
   "id": "abf7f5ef",
   "metadata": {
    "id": "abf7f5ef"
   },
   "outputs": [],
   "source": [
    "sns.scatterplot(x='pmdec', y='parallax', data=all_stars)\n",
    "plt.xlim([??,??])"
   ]
  },
  {
   "cell_type": "code",
   "execution_count": null,
   "id": "0b441725",
   "metadata": {
    "id": "0b441725"
   },
   "outputs": [],
   "source": [
    "sns.histplot(x='parallax', data=all_stars,\n",
    "              kde=True,color='blue')\n",
    "#sns.histplot(x='parallax', data=rf_member, label='RF Member',\n",
    " #            kde=True,color='Green')\n",
    "#plt.legend()\n",
    "plt.xlim([??,??])\n",
    "plt.show()"
   ]
  },
  {
   "cell_type": "code",
   "execution_count": null,
   "id": "42974dbe",
   "metadata": {
    "id": "42974dbe"
   },
   "outputs": [],
   "source": [
    "sns.histplot(x='pmra', data=all_stars,\n",
    "              kde=True,color='blue')\n",
    "#sns.histplot(x='parallax', data=rf_member, label='RF Member',\n",
    " #            kde=True,color='Green')\n",
    "plt.legend()\n",
    "plt.xlim([??,??])\n",
    "plt.show()"
   ]
  },
  {
   "cell_type": "code",
   "execution_count": null,
   "id": "e8dd2edd",
   "metadata": {
    "id": "e8dd2edd"
   },
   "outputs": [],
   "source": [
    "sns.histplot(x='pmdec', data=all_stars,\n",
    "              kde=True,color='blue')\n",
    "#sns.histplot(x='parallax', data=rf_member, label='RF Member',\n",
    " #            kde=True,color='Green')\n",
    "plt.xlim([??,??])\n",
    "plt.legend()\n",
    "plt.show()"
   ]
  },
  {
   "cell_type": "code",
   "execution_count": null,
   "id": "fe019149",
   "metadata": {
    "id": "fe019149"
   },
   "outputs": [],
   "source": [
    "all_stars.describe()"
   ]
  },
  {
   "cell_type": "code",
   "execution_count": null,
   "id": "e06407f2",
   "metadata": {
    "id": "e06407f2"
   },
   "outputs": [],
   "source": [
    "all_stars.info()"
   ]
  },
  {
   "cell_type": "code",
   "execution_count": null,
   "id": "c3e1ca9a",
   "metadata": {
    "id": "c3e1ca9a"
   },
   "outputs": [],
   "source": [
    "mask = (all_stars.parallax >= ??) & (all_stars.parallax <= ??) &(all_stars.pmra < ??) & (all_stars.pmra > ??)& (all_stars.pmdec > ??) & (all_stars.pmdec < ??)\n"
   ]
  },
  {
   "cell_type": "code",
   "execution_count": null,
   "id": "c5d90b72",
   "metadata": {
    "id": "c5d90b72"
   },
   "outputs": [],
   "source": [
    "members = all_stars[mask]"
   ]
  },
  {
   "cell_type": "code",
   "execution_count": null,
   "id": "91e5e1d7",
   "metadata": {
    "id": "91e5e1d7"
   },
   "outputs": [],
   "source": [
    "members.describe()"
   ]
  },
  {
   "cell_type": "code",
   "execution_count": null,
   "id": "30bd85ef",
   "metadata": {
    "id": "30bd85ef"
   },
   "outputs": [],
   "source": [
    "sns.histplot(x='pmdec', data=members,\n",
    "              kde=True,color='blue')\n",
    "#sns.histplot(x='parallax', data=rf_member, label='RF Member',\n",
    " #            kde=True,color='Green')\n",
    "plt.xlim([??,??])\n",
    "#plt.legend()\n",
    "plt.show()"
   ]
  },
  {
   "cell_type": "code",
   "execution_count": null,
   "id": "17ce5ce3",
   "metadata": {
    "id": "17ce5ce3"
   },
   "outputs": [],
   "source": [
    "members"
   ]
  },
  {
   "cell_type": "code",
   "execution_count": null,
   "id": "97fdc968",
   "metadata": {
    "id": "97fdc968"
   },
   "outputs": [],
   "source": [
    "\n",
    "sns.scatterplot(x = 'bp_rp', y='phot_g_mean_mag',palette='RdYlGn',\n",
    "                data = all_stars)\n",
    "sns.scatterplot(x = 'bp_rp', y='phot_g_mean_mag',palette='RdYlGn',\n",
    "                data = members)\n",
    "plt.ylabel('Apparent Magnitude (G band)')\n",
    "#plt.xlim(0,3)\n",
    "#sns.scatterplot(hr.b_v+0.5, hr.V+10)\n",
    "\n",
    "plt.gca().invert_yaxis()"
   ]
  },
  {
   "cell_type": "code",
   "execution_count": null,
   "id": "7b632a39",
   "metadata": {
    "id": "7b632a39"
   },
   "outputs": [],
   "source": [
    "sns.scatterplot(x = 'bp_rp', y='phot_g_mean_mag',palette='RdYlGn',\n",
    "                data = members)\n",
    "plt.ylabel('Apparent Magnitude (G band)')\n",
    "#plt.xlim(0,3)\n",
    "#sns.scatterplot(hr.b_v+0.5, hr.V+10)\n",
    "plt.gca().invert_yaxis()\n",
    "plt.title('Hertzsprung Russel Diagram of ' + target)\n",
    "out_file=\"{}/{}_HRD.png\".format(data_folder,target)\n",
    "plt.savefig(out_file)"
   ]
  },
  {
   "cell_type": "markdown",
   "id": "7ba4ad29",
   "metadata": {
    "id": "7ba4ad29"
   },
   "source": [
    "#### Your Assignment: Plot HRD for a few other clusters M44, NGC1893, NGC581, M92, M13) to see the similarities and differences in HRDs.\n"
   ]
  },
  {
   "cell_type": "code",
   "execution_count": null,
   "id": "058d6abc-66bb-4622-a63d-8b9b37b86968",
   "metadata": {},
   "outputs": [],
   "source": []
  }
 ],
 "metadata": {
  "colab": {
   "collapsed_sections": [],
   "name": "Casacde_Gaia_HRD.ipynb",
   "provenance": []
  },
  "kernelspec": {
   "display_name": "Python 3 (ipykernel)",
   "language": "python",
   "name": "python3"
  },
  "language_info": {
   "codemirror_mode": {
    "name": "ipython",
    "version": 3
   },
   "file_extension": ".py",
   "mimetype": "text/x-python",
   "name": "python",
   "nbconvert_exporter": "python",
   "pygments_lexer": "ipython3",
   "version": "3.9.13"
  }
 },
 "nbformat": 4,
 "nbformat_minor": 5
}
