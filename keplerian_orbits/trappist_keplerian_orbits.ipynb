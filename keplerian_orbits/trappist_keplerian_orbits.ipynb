{
 "cells": [
  {
   "cell_type": "markdown",
   "metadata": {},
   "source": [
    "# Analyse the Trappist 1 System of Exoplanets!\n",
    "## Your goal is to calculate the Mass of the M-type Red Dwarf Host Star\n",
    "## The ```keplerian_orbits.ipynb``` you completed earlier will be useful for this notebook\n",
    "In 2016 the [Trappist 1 System of Exoplanets](https://exoplanets.nasa.gov/trappist1/) was discovered by the ESA Southern Observatory's Very Large Array Telescope in Chile and the Caltech Spitzer Space Telescope.  This is a planetary system that could possibly sustain life forms and astronomers ar very excited to learn further.  The Trappist 1 system is a very important target for the [James Webb Space Telescope](https://webb.nasa.gov/)!\n",
    "![habzones](trap1_habitable_zones.png)"
   ]
  },
  {
   "cell_type": "markdown",
   "metadata": {
    "id": "mzRt4wYUXmnr"
   },
   "source": [
    "## Task1: \n",
    "### Find and add images of Trappist 1 System of exoplanets to this Jupyter Notebook\n",
    "1. Google \"Trappist 1 Exoplanets NASA\" in a separate bowser or use links above. \n",
    "    - You will find lots of images of Trappist 1 system to choose from!\n",
    "1. Capture some screen shots to include in this notebook\n",
    "1. Rename screen shots on your laptop to trappist1, trappist2 etc\n",
    "1. Upload to this notebook by dropping them on the left panel\n",
    "1. Modify code cell below to display them\n",
    "1. Do not forget to hit \"Shift-Enter\" to execute each cell as you go along!"
   ]
  },
  {
   "cell_type": "markdown",
   "metadata": {},
   "source": [
    "![trap1](trappist1.png)\n",
    "\n",
    "![trap2](trappist2.png)"
   ]
  },
  {
   "cell_type": "markdown",
   "metadata": {
    "tags": []
   },
   "source": [
    "## Task 2\n",
    "### Import python modules and setp constants we need for calulations"
   ]
  },
  {
   "cell_type": "code",
   "execution_count": null,
   "metadata": {
    "id": "6No7X6TC9KNo"
   },
   "outputs": [],
   "source": [
    "# Import modules that contain functions we need\n",
    "import pandas as pd # pandas is common for data science\n",
    "import numpy as np #N umPy is used a lot in science\n",
    "import math # we need the math class for pi\n",
    "%matplotlib inline \n",
    "import matplotlib.pyplot as plt # MatPlotLib is the plotting standard\n",
    "import seaborn as sns # makes regression plot easy\n",
    "from scipy import stats # lets us do a linear regression"
   ]
  },
  {
   "cell_type": "markdown",
   "metadata": {
    "id": "z72DEuJGVg7F"
   },
   "source": [
    "## Constants we need to analyze the Trappist 1 exoplanets\n",
    "1. The astromical unit (AU) in meters: ```d_au```\n",
    "1. Newton's Universal gravitational constant in SI units: ```G```\n",
    "1. Mass of the Sun in kilograms: ```M_sun```\n",
    "$$\n",
    "d_{au}=1.5\\times10^{11} \\mathrm{m} \\\\\n",
    "G=6.67\\times10^{-11} \\mathrm{Nm^2/kg^2} \\\\\n",
    "M_{sun}=1.989\\times10^{30} \\mathrm{kg}\n",
    "$$\n"
   ]
  },
  {
   "cell_type": "code",
   "execution_count": null,
   "metadata": {
    "id": "xUfovvQpLYJN"
   },
   "outputs": [],
   "source": [
    "# Type the constants here.\n",
    "# Example: 3*10^8 in Python would be 3e8\n",
    "d_au = ADD ASTRONOMICAL UNIT IN METERS #type_in_constants_here\n",
    "G = ADD GRAVITATIONAL CONSTANT IN NM^2/KG^2 #type_in_constants_here\n",
    "M_sun = ADD MASS OF SUN IN KG #type_in_constants_here"
   ]
  },
  {
   "cell_type": "markdown",
   "metadata": {},
   "source": [
    "## Task 3\n",
    "### Read and display Trappist 1 Exoplanet Data ```csv``` file by adding to the code cell below\n",
    "This dataset is based on the discovery of an exolplanet system by the ESA Southern Observatory's Very Large Array Telescope in Chile and the Caltech Spitzer Space Telescope.\n",
    "1. Read and the data that will be used for the calculations.\n",
    "1. Create a dataframe data1 with the date you just read in\n",
    "1. Print the dataframe"
   ]
  },
  {
   "cell_type": "code",
   "execution_count": null,
   "metadata": {
    "id": "q3lG6Kle9KNp"
   },
   "outputs": [],
   "source": [
    "# Read and the data that will be used for the calculations.\n",
    "# create a dataframe data1 with the table you just read in\n",
    "data1 = pd.read_csv(\"NAME OF CSV FILE WITH TRAPPIST 1 DATA\")\n",
    "print(data1)"
   ]
  },
  {
   "cell_type": "markdown",
   "metadata": {
    "id": "RfzuC0f29KNp"
   },
   "source": [
    "## Task 4\n",
    "### Extract the 'Semimajor axis (AU)' and 'Orbital period (earth days)' colums from the ```data``` table\n",
    "1. Create a dataframe for Semimajor axis and convert to meters\n",
    "1. Assign this to an np.array() ```a_m```\n",
    "1. Create a dataframe for Orbital period\n",
    "1. Assign this to an np.array() ```p_s```\n",
    "1. Print each"
   ]
  },
  {
   "cell_type": "code",
   "execution_count": null,
   "metadata": {},
   "outputs": [],
   "source": [
    "a_m = np.array(data1['Semimajor axis (AU)']*d_au)\n",
    "p_s = np.array(data1['COLUMN TITLE OF PERIOD IN EARTH DAYS GOES HERE']*CONV FACTOR FOR SECONDS IN A DAY)\n",
    "print(a_m)\n",
    "print(p_s)"
   ]
  },
  {
   "cell_type": "markdown",
   "metadata": {},
   "source": [
    "## Task 3\n",
    "### Create 2 separate plots and create a linear regression\n",
    "1. Create non-linear scatter/line plot of ```p_s``` (y axis) versus ```a_m``` (x axis) with a proper title and axis labels\n",
    "1. Create linearized scatter/line plot of ```p_s**2``` (y axis) versus ```a_m**3``` (x axis) with a LATEX title and axis label3\n",
    "1. Call the function ```stats.linregress(x,y)``` to get the ```slope```"
   ]
  },
  {
   "cell_type": "code",
   "execution_count": null,
   "metadata": {
    "id": "gv4eOvWVPVZf"
   },
   "outputs": [],
   "source": [
    "# non-linear plot 1\n",
    "plt.scatter(x??, y??)\n",
    "plt.plot(x??, y??)\n",
    "plt.title(\"??????\")\n",
    "plt.xlabel(\"?????\")\n",
    "plt.ylabel(\"??????\")"
   ]
  },
  {
   "cell_type": "code",
   "execution_count": null,
   "metadata": {},
   "outputs": [],
   "source": [
    "# linearized plot 2\n",
    "plt.scatter(x??, y??)\n",
    "plt.plot(x??, y??)\n",
    "plt.title(\"??????\")\n",
    "plt.xlabel(\"?????\")\n",
    "plt.ylabel(\"??????\")"
   ]
  },
  {
   "cell_type": "code",
   "execution_count": null,
   "metadata": {},
   "outputs": [],
   "source": [
    "# get coefficients of our linear fit\n",
    "slope, intercept, r_value, p_value, std_err = stats.linregress(x??,y??)\n",
    "print(slope)"
   ]
  },
  {
   "cell_type": "markdown",
   "metadata": {},
   "source": [
    "## Task 5\n",
    "### Use Newton's form of the Kepler's 3rd law to find the Mass of the Red Dwarf Star\n",
    "1. Kepler's 3rd law $$ {p\\_s}^2\\ =\\ \\frac{4\\pi^2}{G \\times M\\_star} \\times {a\\_m}^3 $$\n",
    "1. Set ```slope``` equal to $$ slope=\\frac{4\\pi^2}{G \\times M\\_star} $$\n",
    "1. Rearrange to find ```M_star```\n",
    "1. Finally caculate and print the ratio of M_star to M_sun"
   ]
  },
  {
   "cell_type": "code",
   "execution_count": null,
   "metadata": {
    "id": "A3SfsnYJwlJl"
   },
   "outputs": [],
   "source": [
    "# Use the algebraically rearranged slope expression\n",
    "# to find the mass of the star in this system.\n",
    "M_star = \n",
    "\n",
    "# Find the ratio of this star's mass to that of the sun, given above.\n",
    "ratio = \n",
    "\n",
    "# Display the ratio.\n",
    "print(f'ratio = {ratio:1.3f}')"
   ]
  },
  {
   "cell_type": "markdown",
   "metadata": {},
   "source": [
    "# Compare with actual result quoted in wikipedia\n",
    "[Trappist 1 System has a red dwarf central star](https://en.wikipedia.org/wiki/TRAPPIST-1) with mass ```get fraction of solar mass from link``` * mass of our Sun"
   ]
  },
  {
   "cell_type": "code",
   "execution_count": null,
   "metadata": {},
   "outputs": [],
   "source": [
    "percent_error = (M_sun*fraction of solar mass - M_star)/M_sun\n",
    "print(f'percent error in calculating mass of Trappist 1 central red dwarf star is: {percent_error*100:1.3f}% !!')"
   ]
  }
 ],
 "metadata": {
  "anaconda-cloud": {},
  "colab": {
   "collapsed_sections": [],
   "name": "Kepler_Activity.ipynb",
   "provenance": [
    {
     "file_id": "1bYd8C31oRzTinq0-T6DiIMUV9NynDM1z",
     "timestamp": 1646600841741
    },
    {
     "file_id": "https://github.com/jimmynewland/colabnotebooks/blob/main/Keplers_3rd_Law_Activity.ipynb",
     "timestamp": 1644378382904
    }
   ]
  },
  "kernelspec": {
   "display_name": "Python 3 (ipykernel)",
   "language": "python",
   "name": "python3"
  },
  "language_info": {
   "codemirror_mode": {
    "name": "ipython",
    "version": 3
   },
   "file_extension": ".py",
   "mimetype": "text/x-python",
   "name": "python",
   "nbconvert_exporter": "python",
   "pygments_lexer": "ipython3",
   "version": "3.9.13"
  }
 },
 "nbformat": 4,
 "nbformat_minor": 4
}
