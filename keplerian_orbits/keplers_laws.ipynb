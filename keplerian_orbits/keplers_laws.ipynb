{
 "cells": [
  {
   "cell_type": "markdown",
   "id": "8b6939a5-0f4b-461f-9d21-2000b2d5e163",
   "metadata": {},
   "source": [
    "# Kepler's laws of Planetary Motion!\n",
    "## Let's do some exercises from Chapter 3 of the Astronomy book!\n",
    "### Kepler's First Two Laws of Planetary Motion\n",
    "The path of an object through space is called its orbit. Kepler initially assumed that the orbits of planets were circles, but doing so did not allow him to find orbits that were consistent with Brahe’s observations. Working with the data for Mars, he eventually discovered that the orbit of that planet had the shape of a somewhat flattened circle, or ellipse. Next to the circle, the ellipse is the simplest kind of closed curve, belonging to a family of curves known as conic sections\n",
    "\n",
    "![conics](conics.png)\n"
   ]
  },
  {
   "cell_type": "markdown",
   "id": "162aef71-7346-4782-bba7-bedb55f2f5d0",
   "metadata": {},
   "source": [
    "### Kepler's First Law\n",
    "Each planet moves around the Sun in an orbit that is an ellipse, with the Sun at one focus of the ellipse."
   ]
  },
  {
   "cell_type": "markdown",
   "id": "60aba23e-7eb8-45e4-9ea5-39e18a9c2998",
   "metadata": {},
   "source": [
    "![definitions](defs.png)"
   ]
  },
  {
   "cell_type": "markdown",
   "id": "1ac34fe9-df40-4677-89ce-7a345fcfe541",
   "metadata": {},
   "source": [
    "### Kepler's Second Law\n",
    "The straight line joining a planet and the Sun sweeps out equal areas in space in equal intervals of time."
   ]
  },
  {
   "cell_type": "markdown",
   "id": "7abbfb2d-00d6-4c29-b9fe-d8b91f305b2a",
   "metadata": {},
   "source": [
    "![equalareas](equalareas.png)"
   ]
  },
  {
   "cell_type": "markdown",
   "id": "454512a5-f491-4fe3-98d6-e74873c8ee88",
   "metadata": {
    "tags": []
   },
   "source": [
    "Kepler’s second law deals with the speed with which each planet moves along its ellipse, also known as its ***orbital speed***. Working with Brahe’s observations of Mars, Kepler discovered that the planet speeds up as it comes closer to the Sun and slows down as it pulls away from the Sun. He expressed the precise form of this relationship by imagining that the Sun and Mars are connected by a straight, elastic line. When Mars is closer to the Sun (positions 1 and 2 in Figure above), the elastic line is not stretched as much, and the planet moves rapidly. Farther from the Sun, as in positions 3 and 4, the line is stretched a lot, and the planet does not move so fast. As Mars travels in its elliptical orbit around the Sun, the elastic line sweeps out areas of the ellipse as it moves (the colored regions in our figure).In the figure above, the orbital speed of a planet traveling around the Sun (the circular object inside the ellipse) varies in such a way that in equal intervals of time (t), a line between the Sun and a planet sweeps out equal areas (A and B)."
   ]
  },
  {
   "cell_type": "markdown",
   "id": "7bafd94b-5e20-4bca-b9e8-877b6cc8d71e",
   "metadata": {},
   "source": [
    "### Kepler's Third Law\n",
    "The square of a planet’s orbital period is directly proportional to the cube of the semimajor axis of its orbit.\n",
    "\n",
    "Kepler’s first two laws of planetary motion describe the shape of a planet’s orbit and allow us to calculate the speed of its motion at any point in the orbit. Kepler was pleased to have discovered such fundamental rules, but they did not satisfy his quest to fully understand planetary motions. He wanted to know why the orbits of the planets were spaced as they are and to find a mathematical pattern in their movements—a “harmony of the spheres” as he called it. For many years he worked to discover mathematical relationships governing planetary spacing and the time each planet took to go around the Sun.\n",
    "\n",
    "In 1619, Kepler discovered a basic relationship to relate the planets’ orbits to their relative distances from the Sun. We define a planet’s orbital period, (P), as the time it takes a planet to travel once around the Sun. Also, recall that a planet’s semimajor axis, a, is equal to its average distance from the Sun. The relationship, now known as Kepler’s third law, says that a planet’s orbital period squared is proportional to the semimajor axis of its orbit cubed, or\n",
    "$$P^2 \\propto a^3$$\n",
    "When 'P' (the orbital period) is measured in Earth-years, and 'a' is expressed in a quantity known as an astronomical unit (AU), the two sides of the formula are not only proportional but equal. In these \"normalized\" units (years and AU)\n",
    "$$P^2 = a^3$$\n"
   ]
  },
  {
   "cell_type": "markdown",
   "id": "fd80814a-e851-4d73-8cb4-6778ca670fbe",
   "metadata": {},
   "source": [
    "![third](thirdlaw.png)"
   ]
  },
  {
   "cell_type": "markdown",
   "id": "d5046859-fafb-43ec-b91a-00ca55d2d57f",
   "metadata": {},
   "source": [
    "Note that one AU is the average distance between Earth and the Sun and is approximately equal to 150 million km. One Earth-year is approximately 365 days. Normalizing all the orbital parameters with respect to that of earth (ratios using Earth-based measurements set at 1), we arrive at the table below for the Solar System."
   ]
  },
  {
   "cell_type": "markdown",
   "id": "1f63cd59-1df3-4178-ba21-b9ea154afc33",
   "metadata": {},
   "source": [
    "| Planet | Orbital Period 'P' years| Semi-major axis 'a' AU| Eccentricity of Orbit |\n",
    "| ----------- | ----------- | ----------- | ----------- |\n",
    "| Mercury | Title | Title | ----------- |\n",
    "| Venus | Text | Text | ----------- |\n",
    "| Earth | Title | Title | ----------- |\n",
    "| Mars | Text | Text | ----------- |\n",
    "| Jupiter | Title | Title | ----------- |\n",
    "| Saturn | Text | Text | ----------- |\n",
    "| Uranus | Title | Title | ----------- |\n",
    "| Pluto | Text | Text | ----------- |\n",
    "| Ceres | Title | Title | ----------- |\n",
    "| Haumea | Text | Text | ----------- |\n",
    "| Makemake | Title | Title | ----------- |\n",
    "| Eris | Text | Text | ----------- |"
   ]
  },
  {
   "cell_type": "markdown",
   "id": "03ea7a25-c42a-4c67-973b-11b455a8f6b5",
   "metadata": {},
   "source": [
    "#### Let's check our understanding \n",
    "Use information in the table above as needed - answer these questions below by adding new cells for your calculations\n",
    "1. According to Kepler’s second law, where in a planet’s orbit would it be moving fastest? Where would it be moving slowest?\n",
    "1. If the major axis of an ellipse is 16 cm, what is the semimajor axis? If the eccentricity is 0.8, would this ellipse be best described as mostly circular or very elongated?\n",
    "1. Mars takes 1.88 Earth years to go around the Sun. What is the average distance of Mars from the Sun when measured in AU.\n",
    "1. What is the average distance from the Sun (in astronomical units) of an asteroid with an orbital period of 8 years?\n",
    "1. What is the average distance from the Sun (in astronomical units) of a planet with an orbital period of 45.66 years?\n",
    "1. In 1996, astronomers discovered an icy object beyond Pluto that was given the designation 1996 TL 66. It has a semimajor axis of 84 AU. What is its orbital period according to Kepler’s third law?"
   ]
  }
 ],
 "metadata": {
  "kernelspec": {
   "display_name": "Python 3 (ipykernel)",
   "language": "python",
   "name": "python3"
  },
  "language_info": {
   "codemirror_mode": {
    "name": "ipython",
    "version": 3
   },
   "file_extension": ".py",
   "mimetype": "text/x-python",
   "name": "python",
   "nbconvert_exporter": "python",
   "pygments_lexer": "ipython3",
   "version": "3.9.13"
  }
 },
 "nbformat": 4,
 "nbformat_minor": 5
}
