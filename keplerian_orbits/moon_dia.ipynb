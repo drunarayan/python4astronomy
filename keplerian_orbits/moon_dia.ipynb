{
 "cells": [
  {
   "cell_type": "markdown",
   "id": "44e8f248-1fe0-43af-8d5b-58bd4c5e834f",
   "metadata": {},
   "source": [
    "## Add markdown and code cells completing the steps below:\n",
    "1. Estimate the Diameter of the Earth in Moon diameters using the partial lunar eclipse configuration of the Sun, Earth and Moon. See hint below.\n",
    "2. Apply your measurement of Earth Diameter from the Eratosthenes Project, Calculate the Diameter of the Moon in KM.\n",
    "3. Knowing the apparent angular size of the Moon from Earth is 0.5 degrees calculate the Distance of the Moon from Earth in Moon Diameters.\n",
    "4. Calculate the Distance of the Moon from Earth in KM knowing the answer from step 2 above.\n",
    "![moondia](moon_dia.png)\n",
    "![mooneclipse](moon_eclipse.JPG)"
   ]
  },
  {
   "cell_type": "code",
   "execution_count": null,
   "id": "1711bb97-d992-4d4c-9c29-8b89995240b3",
   "metadata": {},
   "outputs": [],
   "source": []
  }
 ],
 "metadata": {
  "kernelspec": {
   "display_name": "Python 3 (ipykernel)",
   "language": "python",
   "name": "python3"
  },
  "language_info": {
   "codemirror_mode": {
    "name": "ipython",
    "version": 3
   },
   "file_extension": ".py",
   "mimetype": "text/x-python",
   "name": "python",
   "nbconvert_exporter": "python",
   "pygments_lexer": "ipython3",
   "version": "3.9.13"
  }
 },
 "nbformat": 4,
 "nbformat_minor": 5
}
