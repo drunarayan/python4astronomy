{
 "cells": [
  {
   "cell_type": "markdown",
   "id": "b9fd141f-e3ae-47f3-9b2d-eb68e5ccecc8",
   "metadata": {
    "tags": []
   },
   "source": [
    "<div class=\"alert alert-info\">Example text highlighted in blue background.</div>\n",
    "<div class=\"alert alert-success\">Example text highlighted in green background.</div>\n",
    "<div class=\"alert alert-warning\">Example <bold>bold text highlighted</bold> in yellow background.</div>\n",
    "<div class=\"alert alert-danger\">Example <strong>strong text highlighted</strong> in red background.</div>"
   ]
  },
  {
   "cell_type": "markdown",
   "id": "f4be698e-64fb-4ac2-8295-b9f614701734",
   "metadata": {},
   "source": [
    "[CIRCLE emoji reference](https://www.piliapp.com/emoji/list/circle/)"
   ]
  },
  {
   "cell_type": "markdown",
   "id": "c8507eaa-3e9b-45e3-8b0e-75ccbc8b9f6b",
   "metadata": {},
   "source": [
    "[CHECKMARK emoji reference](https://emojiguide.com/symbols/check-mark/)"
   ]
  },
  {
   "cell_type": "markdown",
   "id": "0b6d839a-9498-4e5c-ae47-220d35b7af02",
   "metadata": {},
   "source": [
    "[emoji reference](https://emojiguide.com/)"
   ]
  },
  {
   "cell_type": "markdown",
   "id": "3c41a5e0-340e-4918-b1fd-8cfc72dfd1b1",
   "metadata": {},
   "source": [
    "🔴🟢🔵🟤 Comments from chandru 11/23 XXXXXXXX"
   ]
  },
  {
   "cell_type": "markdown",
   "id": "65127de4-be32-49fe-884a-630a97a3172e",
   "metadata": {},
   "source": [
    "🔴 Comments from chandru 11/23 \n",
    "- Correct. You have 100% on this notebook"
   ]
  },
  {
   "cell_type": "code",
   "execution_count": null,
   "id": "964d9c77-f6b0-4271-a710-d18528440c78",
   "metadata": {},
   "outputs": [],
   "source": [
    "🔴 Comments from chandru 11/23 \n",
    "- Issues Noted.\n",
    "- This notebook has errors\n",
    "- I do not see your construction earth shadow in moon diameters\n",
    "- You have 60% on this notebook"
   ]
  },
  {
   "cell_type": "code",
   "execution_count": null,
   "id": "d6f79799-47cc-4c5c-b485-6031435c990c",
   "metadata": {},
   "outputs": [],
   "source": [
    "🔴 Comments from chandru 11/23 \n",
    "- Issues noted. \n",
    "- You have hardcoded the value of the central star in the trappist system\n",
    "- It should be calculated using the variable 'ratio\" !\n",
    "- You have 90% on this notebook"
   ]
  },
  {
   "cell_type": "code",
   "execution_count": null,
   "id": "2e923fd7-df35-4db1-a8be-d024ea352c77",
   "metadata": {},
   "outputs": [],
   "source": [
    "🔴 Comments from chandru 11/23 \n",
    "- Issues noted. \n",
    "- You have hardcoded the value of the central star in the trappist system\n",
    "- It should be calculated using the variable 'ratio\" !\n",
    "- You have 90% on this notebook"
   ]
  },
  {
   "cell_type": "code",
   "execution_count": null,
   "id": "2549c145-a45e-485c-a5eb-1c23f20e2c3f",
   "metadata": {},
   "outputs": [],
   "source": [
    "🔴 Comments from chandru 11/23 \n",
    "- Issues Noted. \n",
    "- This notebook has errors\n",
    "- I do not see your construction earth shadow in moon diameters\n",
    "- No units on Moon diameter\n",
    "- Moon distance is not calculated\n",
    "- You have 50% on this notebook"
   ]
  },
  {
   "cell_type": "code",
   "execution_count": null,
   "id": "9225c917-c605-4926-9d9a-dc0d5230e3af",
   "metadata": {},
   "outputs": [],
   "source": [
    "🔴 Comments from chandru 11/23 \n",
    "- Overall grade on this assignment: \n",
    "    You have 100% on Kepler 11b System Exoplanets notebook\n",
    "    You have 90% on Trappist System Exoplanets notebook\n",
    "    You have 90% on Moon diameter & distance notebook\n",
    "    "
   ]
  },
  {
   "cell_type": "code",
   "execution_count": null,
   "id": "de8263ff-453a-422b-b83e-10a172ed4602",
   "metadata": {},
   "outputs": [],
   "source": [
    "#🔴 Comments from chandru 11/23 \n",
    "overall_grade = (100 + 90 + 50)/3\n",
    "print(f'overall grade = {overall_grade:1.2f} percent')"
   ]
  },
  {
   "cell_type": "markdown",
   "id": "18a2d4bc-a735-44c2-ac40-2bc3e05e731d",
   "metadata": {},
   "source": [
    "🔴 Comments from chandru 11/23\n",
    "\n",
    "- You have not addressed the issues I identified on this notebook previously.\n",
    "- Your grade on this project remains unchanged."
   ]
  },
  {
   "cell_type": "markdown",
   "id": "eed5294c-c459-4a11-9ec2-ebb650c55083",
   "metadata": {},
   "source": [
    "🔴 Comments from chandru 11/23\n",
    "- Nice work!  You have a 100% grade on this notebook\n",
    "\n",
    "🔴 Comments from chandru 11/23 \n",
    "- Overall grade on this assignment: \n",
    "    You have 100% on Kepler 11b System Exoplanets notebook\n",
    "    You have 90% on Trappist System Exoplanets notebook\n",
    "    You have 90% on Moon diameter & distance notebook\n",
    "    "
   ]
  },
  {
   "cell_type": "code",
   "execution_count": null,
   "id": "5c974162-3b92-4a47-a3e6-11d66200383b",
   "metadata": {},
   "outputs": [],
   "source": [
    "#🔴 Comments from chandru 11/23 \n",
    "overall_grade = (100 + 90 + 50)/3\n",
    "print(f'overall grade = {overall_grade:1.2f} percent')"
   ]
  }
 ],
 "metadata": {
  "kernelspec": {
   "display_name": "Python 3 (ipykernel)",
   "language": "python",
   "name": "python3"
  },
  "language_info": {
   "codemirror_mode": {
    "name": "ipython",
    "version": 3
   },
   "file_extension": ".py",
   "mimetype": "text/x-python",
   "name": "python",
   "nbconvert_exporter": "python",
   "pygments_lexer": "ipython3",
   "version": "3.9.13"
  }
 },
 "nbformat": 4,
 "nbformat_minor": 5
}
